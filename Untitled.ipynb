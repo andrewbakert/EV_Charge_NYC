{
 "cells": [
  {
   "cell_type": "code",
   "execution_count": 1,
   "id": "cfaa37e4-1029-4e35-95e4-b2651375c74a",
   "metadata": {},
   "outputs": [],
   "source": [
    "from pyspark.sql import SparkSession\n",
    "from pyspark import SparkContext as sc\n",
    "import pandas as pd\n",
    "import numpy as np\n",
    "import matplotlib.pyplot as plt\n",
    "import matplotlib.dates as mdates\n",
    "import matplotlib as mpl\n",
    "import os\n",
    "import numpy as np\n",
    "import pyspark.sql.functions as F\n",
    "import matplotlib.style as style\n",
    "import geopandas as gpd\n",
    "import altair as alt\n",
    "import json\n",
    "import branca.colormap as cm\n",
    "import folium\n",
    "from folium.plugins import TimeSliderChoropleth\n",
    "\n",
    "%matplotlib inline"
   ]
  },
  {
   "cell_type": "code",
   "execution_count": 2,
   "id": "33f8c348-c070-49ba-af82-43ca6685504b",
   "metadata": {},
   "outputs": [],
   "source": [
    "# Start Spark session\n",
    "spark = SparkSession \\\n",
    "    .builder \\\n",
    "    .master(\"local[*]\") \\\n",
    "    .appName('NY Registration EDA') \\\n",
    "    .getOrCreate() \n",
    "\n",
    "# Specify filepath\n",
    "fp = 'assets/ny_reg.csv'\n",
    "ny_reg = spark.read.csv(fp, header=True)"
   ]
  },
  {
   "cell_type": "code",
   "execution_count": 5,
   "id": "19838b54-45b6-48ed-89df-52a039b60a84",
   "metadata": {},
   "outputs": [],
   "source": [
    "sample = pd.DataFrame([x.asDict() for x in ny_reg.take(100)])"
   ]
  },
  {
   "cell_type": "code",
   "execution_count": 8,
   "id": "1c8ec452-3a5e-4acf-938a-434284dc624c",
   "metadata": {},
   "outputs": [],
   "source": [
    "sample.drop('VIN', axis=1, inplace=True)"
   ]
  },
  {
   "cell_type": "code",
   "execution_count": 10,
   "id": "6075eb72-4fd9-45b5-9855-10077c43099f",
   "metadata": {},
   "outputs": [],
   "source": [
    "sample.to_csv('assets/ny_reg_sample.csv', index=False)"
   ]
  },
  {
   "cell_type": "code",
   "execution_count": 12,
   "id": "42bcf604-8fa6-45e9-b2f9-031cc37074e2",
   "metadata": {},
   "outputs": [],
   "source": [
    "traffic = gpd.read_file('assets/traffic_results.geojson')"
   ]
  },
  {
   "cell_type": "code",
   "execution_count": 15,
   "id": "cc44f614-a640-43a8-a4fc-2a2b8561f4f0",
   "metadata": {},
   "outputs": [],
   "source": [
    "traffic_sample = traffic.head(100)"
   ]
  },
  {
   "cell_type": "code",
   "execution_count": 21,
   "id": "9173901d-0f50-4914-96ad-bd18570a1328",
   "metadata": {},
   "outputs": [],
   "source": [
    "with open('assets/traffic_results_sample.geojson', 'w') as top_routes:\n",
    "    top_routes.write(traffic_sample.to_json())"
   ]
  },
  {
   "cell_type": "code",
   "execution_count": 20,
   "id": "19d7be76-bf37-4478-bbc1-9d5f5205a948",
   "metadata": {},
   "outputs": [],
   "source": [
    "routes = gpd.read_file('assets/top_routes.geojson')\n",
    "routes_sample = routes.head(100)"
   ]
  },
  {
   "cell_type": "code",
   "execution_count": 22,
   "id": "675ced53-9baf-44a9-9568-23a6230ec50e",
   "metadata": {},
   "outputs": [],
   "source": [
    "with open('assets/top_routes_sample.geojson', 'w') as top_routes:\n",
    "    top_routes.write(routes_sample.to_json())"
   ]
  },
  {
   "cell_type": "code",
   "execution_count": 24,
   "id": "1d7d52a9-d0d0-4620-8fa5-c50b8b2e1ea6",
   "metadata": {},
   "outputs": [],
   "source": [
    "trip_pub = pd.read_csv('assets/trips/trippub.csv')"
   ]
  },
  {
   "cell_type": "code",
   "execution_count": 25,
   "id": "acffd308-0767-4bad-837e-ad993d4a6bad",
   "metadata": {},
   "outputs": [],
   "source": [
    "trip_pub_sample = trip_pub.head(100)"
   ]
  },
  {
   "cell_type": "code",
   "execution_count": 26,
   "id": "0e7fcc86-c332-4ce0-89e9-756b0f0f0cb1",
   "metadata": {},
   "outputs": [],
   "source": [
    "trip_pub_sample.to_csv('assets/trips/trippub_sample.csv', index=False)"
   ]
  },
  {
   "cell_type": "code",
   "execution_count": 27,
   "id": "260a3b4e-f7bd-42a2-b75d-97e0ea54b64e",
   "metadata": {},
   "outputs": [],
   "source": [
    "perppub = pd.read_csv('assets/trips/perpub.csv')"
   ]
  },
  {
   "cell_type": "code",
   "execution_count": 28,
   "id": "1b21c8ef-903f-4db1-817f-f86fe2a1a12d",
   "metadata": {},
   "outputs": [],
   "source": [
    "perpub_sample = perppub.head(100)"
   ]
  },
  {
   "cell_type": "code",
   "execution_count": 29,
   "id": "9511c6a9-133e-41de-863a-538d65d3d36f",
   "metadata": {},
   "outputs": [],
   "source": [
    "perpub_sample.to_csv('assets/trips/perpub_sample.csv', index=False)"
   ]
  },
  {
   "cell_type": "code",
   "execution_count": null,
   "id": "ee533438-5b60-47d4-9a04-e7e8ea3c8084",
   "metadata": {},
   "outputs": [],
   "source": []
  }
 ],
 "metadata": {
  "kernelspec": {
   "display_name": "Python 3",
   "language": "python",
   "name": "python3"
  },
  "language_info": {
   "codemirror_mode": {
    "name": "ipython",
    "version": 3
   },
   "file_extension": ".py",
   "mimetype": "text/x-python",
   "name": "python",
   "nbconvert_exporter": "python",
   "pygments_lexer": "ipython3",
   "version": "3.8.8"
  }
 },
 "nbformat": 4,
 "nbformat_minor": 5
}
