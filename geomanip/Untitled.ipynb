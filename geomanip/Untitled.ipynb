{
 "cells": [
  {
   "cell_type": "code",
   "execution_count": 23,
   "id": "eae001b0-a54d-4a02-9670-5aa9321d1769",
   "metadata": {},
   "outputs": [],
   "source": [
    "lat1, lon1 = 38.03806433678074, -84.56174354664236\n",
    "lat2, lon2 = 38.04435917721357, -84.49193388330163\n",
    "\n",
    "url = f'http://router.project-osrm.org/route/v1/driving/{lon1},{lat1};{lon2},{lat2}'"
   ]
  },
  {
   "cell_type": "code",
   "execution_count": 29,
   "id": "2dc819a0-5bce-42af-b940-50a697870c79",
   "metadata": {},
   "outputs": [
    {
     "data": {
      "text/plain": [
       "7595.3"
      ]
     },
     "execution_count": 29,
     "metadata": {},
     "output_type": "execute_result"
    }
   ],
   "source": [
    "import requests\n",
    "\n",
    "requests.get(url).json()['routes'][0]['distance']"
   ]
  },
  {
   "cell_type": "code",
   "execution_count": 30,
   "id": "5797d2d3-4aae-47e3-9306-e989e063f0fa",
   "metadata": {},
   "outputs": [],
   "source": [
    "def find_travel_distance(coord1, coord2, unit='feet'):\n",
    "    lon1, lat1 = coord1\n",
    "    lon2, lat2 = coord2\n",
    "    url = f'http://router.project-osrm.org/route/v1/driving/{lon1},{lat1};{lon2},{lat2}'    \n",
    "    dist = requests.get(url).json()['routes'][0]['distance']\n",
    "    if unit == 'feet':\n",
    "        dist *= 3.28\n",
    "    return dist"
   ]
  },
  {
   "cell_type": "code",
   "execution_count": null,
   "id": "fb393aee-0201-411a-b2fc-0b1deb23a828",
   "metadata": {},
   "outputs": [],
   "source": []
  }
 ],
 "metadata": {
  "kernelspec": {
   "display_name": "firstEnv",
   "language": "python",
   "name": "firstenv"
  },
  "language_info": {
   "codemirror_mode": {
    "name": "ipython",
    "version": 3
   },
   "file_extension": ".py",
   "mimetype": "text/x-python",
   "name": "python",
   "nbconvert_exporter": "python",
   "pygments_lexer": "ipython3",
   "version": "3.8.8"
  }
 },
 "nbformat": 4,
 "nbformat_minor": 5
}
