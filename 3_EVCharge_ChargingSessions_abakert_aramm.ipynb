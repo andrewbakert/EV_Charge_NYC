{
 "cells": [
  {
   "cell_type": "markdown",
   "metadata": {},
   "source": [
    "# **New York EV Chargins Station - Charging Session Analysis**"
   ]
  },
  {
   "cell_type": "markdown",
   "metadata": {},
   "source": [
    "When we are away from home, there are thousands of charging stations that you can take advantage of across New York State. This level of charging is known as Level 2 and it is at least two times faster than Level 1.\n",
    "\n",
    "Level 2 charging stations are mainly installed at stores, office buildings, municipal parking lots, parks, hotels, theaters and hospitals. All Level 2 charging stations have a common plug that all electric cars can use, while DC fast chargers may not be compatible with every model.\n",
    "\n",
    "DC fast charging uses direct current (DC), as opposed to households which use alternating current (AC), and can provide close to a full charge in under an hour. Only public sites can support DC fast charging and they are most often installed along major travel corridors to support long distance drivers.\n",
    "\n",
    "Currently, there are 6471 Level 2 Charging ports and 729 DC Fast Charging ports available in New York. Most of the Level 2 ports are owned by ChargePoint and Tesla owns most of the DC Fast Charging stations.\n"
   ]
  },
  {
   "cell_type": "code",
   "execution_count": 1,
   "metadata": {},
   "outputs": [],
   "source": [
    "#Importing libraries needed for EDA\n",
    "\n",
    "import pandas as pd\n",
    "import matplotlib.pyplot as plt\n",
    "%matplotlib inline\n",
    "\n",
    "# Suppress all warnings\n",
    "import warnings\n",
    "warnings.filterwarnings('ignore')\n",
    "\n",
    "import seaborn as sns"
   ]
  },
  {
   "cell_type": "markdown",
   "metadata": {},
   "source": [
    "#### **NY EV Charging Sessions Dataset**\n",
    "\n",
    "**Description:** New York State EV Charging Session details such as charging levels, duration, connectors.  \n",
    "**Size:** 30 MB  \n",
    "**Source:** nyserda.ny.gov  \n",
    "**Format:** Excel (xlsx) \n",
    "**Access Method:** Downloaded from [nyserda.ny.gov](https://www.nyserda.ny.gov/-/media/Files/Publications/Research/Transportation/EValuateNY-ZIP-File.zip?la=en)"
   ]
  },
  {
   "cell_type": "markdown",
   "metadata": {},
   "source": [
    "#### **NY EV Charging Sessions - Energy Usage**"
   ]
  },
  {
   "cell_type": "code",
   "execution_count": 2,
   "metadata": {},
   "outputs": [],
   "source": [
    "#Reading the Excel spreadsheet and loading into pandas dataframe.\n",
    "charge_sesssion = pd.read_excel('assets/EValuateNY-ZIP-File/resources.xlsx', 'Charging Use',usecols='A:I')"
   ]
  },
  {
   "cell_type": "code",
   "execution_count": 3,
   "metadata": {},
   "outputs": [
    {
     "data": {
      "text/html": [
       "<div>\n",
       "<style scoped>\n",
       "    .dataframe tbody tr th:only-of-type {\n",
       "        vertical-align: middle;\n",
       "    }\n",
       "\n",
       "    .dataframe tbody tr th {\n",
       "        vertical-align: top;\n",
       "    }\n",
       "\n",
       "    .dataframe thead th {\n",
       "        text-align: right;\n",
       "    }\n",
       "</style>\n",
       "<table border=\"1\" class=\"dataframe\">\n",
       "  <thead>\n",
       "    <tr style=\"text-align: right;\">\n",
       "      <th></th>\n",
       "      <th>Start Date</th>\n",
       "      <th>ZIP Code</th>\n",
       "      <th>Network</th>\n",
       "      <th>Charging Time (hours)</th>\n",
       "      <th>Total Duration (hours)</th>\n",
       "      <th>Energy (kWh)</th>\n",
       "      <th>Charging Sessions</th>\n",
       "      <th>Active Station Count</th>\n",
       "      <th>Active Port Count</th>\n",
       "    </tr>\n",
       "  </thead>\n",
       "  <tbody>\n",
       "    <tr>\n",
       "      <th>0</th>\n",
       "      <td>2019-03-01</td>\n",
       "      <td>10468</td>\n",
       "      <td>EV Connect</td>\n",
       "      <td>8</td>\n",
       "      <td>9</td>\n",
       "      <td>127.348</td>\n",
       "      <td>6</td>\n",
       "      <td>3</td>\n",
       "      <td>3</td>\n",
       "    </tr>\n",
       "    <tr>\n",
       "      <th>1</th>\n",
       "      <td>2019-02-01</td>\n",
       "      <td>10468</td>\n",
       "      <td>EV Connect</td>\n",
       "      <td>2</td>\n",
       "      <td>20</td>\n",
       "      <td>1135.876</td>\n",
       "      <td>45</td>\n",
       "      <td>3</td>\n",
       "      <td>3</td>\n",
       "    </tr>\n",
       "    <tr>\n",
       "      <th>2</th>\n",
       "      <td>2019-03-01</td>\n",
       "      <td>11520</td>\n",
       "      <td>EV Connect</td>\n",
       "      <td>0</td>\n",
       "      <td>22</td>\n",
       "      <td>100.271</td>\n",
       "      <td>9</td>\n",
       "      <td>2</td>\n",
       "      <td>2</td>\n",
       "    </tr>\n",
       "    <tr>\n",
       "      <th>3</th>\n",
       "      <td>2019-01-01</td>\n",
       "      <td>10468</td>\n",
       "      <td>EV Connect</td>\n",
       "      <td>6</td>\n",
       "      <td>17</td>\n",
       "      <td>1580.828</td>\n",
       "      <td>54</td>\n",
       "      <td>3</td>\n",
       "      <td>3</td>\n",
       "    </tr>\n",
       "    <tr>\n",
       "      <th>4</th>\n",
       "      <td>2019-02-01</td>\n",
       "      <td>11520</td>\n",
       "      <td>EV Connect</td>\n",
       "      <td>11</td>\n",
       "      <td>0</td>\n",
       "      <td>425.306</td>\n",
       "      <td>45</td>\n",
       "      <td>2</td>\n",
       "      <td>2</td>\n",
       "    </tr>\n",
       "  </tbody>\n",
       "</table>\n",
       "</div>"
      ],
      "text/plain": [
       "  Start Date  ZIP Code     Network  Charging Time (hours)  \\\n",
       "0 2019-03-01     10468  EV Connect                      8   \n",
       "1 2019-02-01     10468  EV Connect                      2   \n",
       "2 2019-03-01     11520  EV Connect                      0   \n",
       "3 2019-01-01     10468  EV Connect                      6   \n",
       "4 2019-02-01     11520  EV Connect                     11   \n",
       "\n",
       "   Total Duration (hours)  Energy (kWh)  Charging Sessions  \\\n",
       "0                       9       127.348                  6   \n",
       "1                      20      1135.876                 45   \n",
       "2                      22       100.271                  9   \n",
       "3                      17      1580.828                 54   \n",
       "4                       0       425.306                 45   \n",
       "\n",
       "   Active Station Count  Active Port Count  \n",
       "0                     3                  3  \n",
       "1                     3                  3  \n",
       "2                     2                  2  \n",
       "3                     3                  3  \n",
       "4                     2                  2  "
      ]
     },
     "execution_count": 3,
     "metadata": {},
     "output_type": "execute_result"
    }
   ],
   "source": [
    "charge_sesssion.head()"
   ]
  },
  {
   "cell_type": "code",
   "execution_count": 4,
   "metadata": {},
   "outputs": [
    {
     "name": "stdout",
     "output_type": "stream",
     "text": [
      "<class 'pandas.core.frame.DataFrame'>\n",
      "RangeIndex: 6857 entries, 0 to 6856\n",
      "Data columns (total 9 columns):\n",
      " #   Column                  Non-Null Count  Dtype         \n",
      "---  ------                  --------------  -----         \n",
      " 0   Start Date              6857 non-null   datetime64[ns]\n",
      " 1   ZIP Code                6857 non-null   int64         \n",
      " 2   Network                 6857 non-null   object        \n",
      " 3   Charging Time (hours)   6857 non-null   int64         \n",
      " 4   Total Duration (hours)  6857 non-null   int64         \n",
      " 5   Energy (kWh)            6857 non-null   float64       \n",
      " 6   Charging Sessions       6857 non-null   int64         \n",
      " 7   Active Station Count    6857 non-null   int64         \n",
      " 8   Active Port Count       6857 non-null   int64         \n",
      "dtypes: datetime64[ns](1), float64(1), int64(6), object(1)\n",
      "memory usage: 482.3+ KB\n"
     ]
    }
   ],
   "source": [
    "charge_sesssion.info()"
   ]
  },
  {
   "cell_type": "code",
   "execution_count": 5,
   "metadata": {},
   "outputs": [],
   "source": [
    "#Creating the Quarter column from the Charge Session start date\n",
    "charge_sesssion['quarter'] = pd.PeriodIndex(charge_sesssion[\"Start Date\"], freq='Q')"
   ]
  },
  {
   "cell_type": "code",
   "execution_count": 6,
   "metadata": {},
   "outputs": [
    {
     "data": {
      "text/html": [
       "<div>\n",
       "<style scoped>\n",
       "    .dataframe tbody tr th:only-of-type {\n",
       "        vertical-align: middle;\n",
       "    }\n",
       "\n",
       "    .dataframe tbody tr th {\n",
       "        vertical-align: top;\n",
       "    }\n",
       "\n",
       "    .dataframe thead th {\n",
       "        text-align: right;\n",
       "    }\n",
       "</style>\n",
       "<table border=\"1\" class=\"dataframe\">\n",
       "  <thead>\n",
       "    <tr style=\"text-align: right;\">\n",
       "      <th></th>\n",
       "      <th>Start Date</th>\n",
       "      <th>ZIP Code</th>\n",
       "      <th>Network</th>\n",
       "      <th>Charging Time (hours)</th>\n",
       "      <th>Total Duration (hours)</th>\n",
       "      <th>Energy (kWh)</th>\n",
       "      <th>Charging Sessions</th>\n",
       "      <th>Active Station Count</th>\n",
       "      <th>Active Port Count</th>\n",
       "      <th>quarter</th>\n",
       "    </tr>\n",
       "  </thead>\n",
       "  <tbody>\n",
       "    <tr>\n",
       "      <th>0</th>\n",
       "      <td>2019-03-01</td>\n",
       "      <td>10468</td>\n",
       "      <td>EV Connect</td>\n",
       "      <td>8</td>\n",
       "      <td>9</td>\n",
       "      <td>127.348</td>\n",
       "      <td>6</td>\n",
       "      <td>3</td>\n",
       "      <td>3</td>\n",
       "      <td>2019Q1</td>\n",
       "    </tr>\n",
       "    <tr>\n",
       "      <th>1</th>\n",
       "      <td>2019-02-01</td>\n",
       "      <td>10468</td>\n",
       "      <td>EV Connect</td>\n",
       "      <td>2</td>\n",
       "      <td>20</td>\n",
       "      <td>1135.876</td>\n",
       "      <td>45</td>\n",
       "      <td>3</td>\n",
       "      <td>3</td>\n",
       "      <td>2019Q1</td>\n",
       "    </tr>\n",
       "    <tr>\n",
       "      <th>2</th>\n",
       "      <td>2019-03-01</td>\n",
       "      <td>11520</td>\n",
       "      <td>EV Connect</td>\n",
       "      <td>0</td>\n",
       "      <td>22</td>\n",
       "      <td>100.271</td>\n",
       "      <td>9</td>\n",
       "      <td>2</td>\n",
       "      <td>2</td>\n",
       "      <td>2019Q1</td>\n",
       "    </tr>\n",
       "    <tr>\n",
       "      <th>3</th>\n",
       "      <td>2019-01-01</td>\n",
       "      <td>10468</td>\n",
       "      <td>EV Connect</td>\n",
       "      <td>6</td>\n",
       "      <td>17</td>\n",
       "      <td>1580.828</td>\n",
       "      <td>54</td>\n",
       "      <td>3</td>\n",
       "      <td>3</td>\n",
       "      <td>2019Q1</td>\n",
       "    </tr>\n",
       "    <tr>\n",
       "      <th>4</th>\n",
       "      <td>2019-02-01</td>\n",
       "      <td>11520</td>\n",
       "      <td>EV Connect</td>\n",
       "      <td>11</td>\n",
       "      <td>0</td>\n",
       "      <td>425.306</td>\n",
       "      <td>45</td>\n",
       "      <td>2</td>\n",
       "      <td>2</td>\n",
       "      <td>2019Q1</td>\n",
       "    </tr>\n",
       "  </tbody>\n",
       "</table>\n",
       "</div>"
      ],
      "text/plain": [
       "  Start Date  ZIP Code     Network  Charging Time (hours)  \\\n",
       "0 2019-03-01     10468  EV Connect                      8   \n",
       "1 2019-02-01     10468  EV Connect                      2   \n",
       "2 2019-03-01     11520  EV Connect                      0   \n",
       "3 2019-01-01     10468  EV Connect                      6   \n",
       "4 2019-02-01     11520  EV Connect                     11   \n",
       "\n",
       "   Total Duration (hours)  Energy (kWh)  Charging Sessions  \\\n",
       "0                       9       127.348                  6   \n",
       "1                      20      1135.876                 45   \n",
       "2                      22       100.271                  9   \n",
       "3                      17      1580.828                 54   \n",
       "4                       0       425.306                 45   \n",
       "\n",
       "   Active Station Count  Active Port Count quarter  \n",
       "0                     3                  3  2019Q1  \n",
       "1                     3                  3  2019Q1  \n",
       "2                     2                  2  2019Q1  \n",
       "3                     3                  3  2019Q1  \n",
       "4                     2                  2  2019Q1  "
      ]
     },
     "execution_count": 6,
     "metadata": {},
     "output_type": "execute_result"
    }
   ],
   "source": [
    "charge_sesssion.head()"
   ]
  },
  {
   "cell_type": "code",
   "execution_count": 7,
   "metadata": {},
   "outputs": [],
   "source": [
    "#Making a copy of dataframe\n",
    "charge_sesssion_duration = charge_sesssion"
   ]
  },
  {
   "cell_type": "code",
   "execution_count": 8,
   "metadata": {},
   "outputs": [
    {
     "data": {
      "text/plain": [
       "Index(['Start Date', 'ZIP Code', 'Network', 'Charging Time (hours)',\n",
       "       'Total Duration (hours)', 'Energy (kWh)', 'Charging Sessions',\n",
       "       'Active Station Count', 'Active Port Count', 'quarter'],\n",
       "      dtype='object')"
      ]
     },
     "execution_count": 8,
     "metadata": {},
     "output_type": "execute_result"
    }
   ],
   "source": [
    "charge_sesssion_duration.columns"
   ]
  },
  {
   "cell_type": "code",
   "execution_count": 9,
   "metadata": {},
   "outputs": [],
   "source": [
    "#Calculating the Average Energy grouping by quarter\n",
    "charge_sesssion['Avg_Energy'] = charge_sesssion.groupby(['quarter'])['Energy (kWh)'].transform('mean')"
   ]
  },
  {
   "cell_type": "code",
   "execution_count": 10,
   "metadata": {},
   "outputs": [],
   "source": [
    "#Calculating the Median Energy grouping by quarter\n",
    "charge_sesssion['Median_Energy'] = charge_sesssion.groupby(['quarter'])['Energy (kWh)'].transform('median')"
   ]
  },
  {
   "cell_type": "code",
   "execution_count": 11,
   "metadata": {},
   "outputs": [],
   "source": [
    "#Renaming column name\n",
    "charge_sesssion = charge_sesssion.rename(columns={'Energy (kWh)' : 'Energy_kWh'})"
   ]
  },
  {
   "cell_type": "code",
   "execution_count": 12,
   "metadata": {},
   "outputs": [],
   "source": [
    "##Calculating the Total Energy grouping by quarter\n",
    "charge_sesssion['Total_Energy'] = charge_sesssion.groupby(['quarter'])['Energy_kWh'].transform('sum')"
   ]
  },
  {
   "cell_type": "code",
   "execution_count": 13,
   "metadata": {},
   "outputs": [
    {
     "data": {
      "text/html": [
       "<div>\n",
       "<style scoped>\n",
       "    .dataframe tbody tr th:only-of-type {\n",
       "        vertical-align: middle;\n",
       "    }\n",
       "\n",
       "    .dataframe tbody tr th {\n",
       "        vertical-align: top;\n",
       "    }\n",
       "\n",
       "    .dataframe thead th {\n",
       "        text-align: right;\n",
       "    }\n",
       "</style>\n",
       "<table border=\"1\" class=\"dataframe\">\n",
       "  <thead>\n",
       "    <tr style=\"text-align: right;\">\n",
       "      <th></th>\n",
       "      <th>Start Date</th>\n",
       "      <th>ZIP Code</th>\n",
       "      <th>Network</th>\n",
       "      <th>Charging Time (hours)</th>\n",
       "      <th>Total Duration (hours)</th>\n",
       "      <th>Energy_kWh</th>\n",
       "      <th>Charging Sessions</th>\n",
       "      <th>Active Station Count</th>\n",
       "      <th>Active Port Count</th>\n",
       "      <th>quarter</th>\n",
       "      <th>Avg_Energy</th>\n",
       "      <th>Median_Energy</th>\n",
       "      <th>Total_Energy</th>\n",
       "    </tr>\n",
       "  </thead>\n",
       "  <tbody>\n",
       "    <tr>\n",
       "      <th>0</th>\n",
       "      <td>2019-03-01</td>\n",
       "      <td>10468</td>\n",
       "      <td>EV Connect</td>\n",
       "      <td>8</td>\n",
       "      <td>9</td>\n",
       "      <td>127.348</td>\n",
       "      <td>6</td>\n",
       "      <td>3</td>\n",
       "      <td>3</td>\n",
       "      <td>2019Q1</td>\n",
       "      <td>540.841534</td>\n",
       "      <td>281.6505</td>\n",
       "      <td>157925.728</td>\n",
       "    </tr>\n",
       "    <tr>\n",
       "      <th>1</th>\n",
       "      <td>2019-02-01</td>\n",
       "      <td>10468</td>\n",
       "      <td>EV Connect</td>\n",
       "      <td>2</td>\n",
       "      <td>20</td>\n",
       "      <td>1135.876</td>\n",
       "      <td>45</td>\n",
       "      <td>3</td>\n",
       "      <td>3</td>\n",
       "      <td>2019Q1</td>\n",
       "      <td>540.841534</td>\n",
       "      <td>281.6505</td>\n",
       "      <td>157925.728</td>\n",
       "    </tr>\n",
       "    <tr>\n",
       "      <th>2</th>\n",
       "      <td>2019-03-01</td>\n",
       "      <td>11520</td>\n",
       "      <td>EV Connect</td>\n",
       "      <td>0</td>\n",
       "      <td>22</td>\n",
       "      <td>100.271</td>\n",
       "      <td>9</td>\n",
       "      <td>2</td>\n",
       "      <td>2</td>\n",
       "      <td>2019Q1</td>\n",
       "      <td>540.841534</td>\n",
       "      <td>281.6505</td>\n",
       "      <td>157925.728</td>\n",
       "    </tr>\n",
       "    <tr>\n",
       "      <th>3</th>\n",
       "      <td>2019-01-01</td>\n",
       "      <td>10468</td>\n",
       "      <td>EV Connect</td>\n",
       "      <td>6</td>\n",
       "      <td>17</td>\n",
       "      <td>1580.828</td>\n",
       "      <td>54</td>\n",
       "      <td>3</td>\n",
       "      <td>3</td>\n",
       "      <td>2019Q1</td>\n",
       "      <td>540.841534</td>\n",
       "      <td>281.6505</td>\n",
       "      <td>157925.728</td>\n",
       "    </tr>\n",
       "    <tr>\n",
       "      <th>4</th>\n",
       "      <td>2019-02-01</td>\n",
       "      <td>11520</td>\n",
       "      <td>EV Connect</td>\n",
       "      <td>11</td>\n",
       "      <td>0</td>\n",
       "      <td>425.306</td>\n",
       "      <td>45</td>\n",
       "      <td>2</td>\n",
       "      <td>2</td>\n",
       "      <td>2019Q1</td>\n",
       "      <td>540.841534</td>\n",
       "      <td>281.6505</td>\n",
       "      <td>157925.728</td>\n",
       "    </tr>\n",
       "  </tbody>\n",
       "</table>\n",
       "</div>"
      ],
      "text/plain": [
       "  Start Date  ZIP Code     Network  Charging Time (hours)  \\\n",
       "0 2019-03-01     10468  EV Connect                      8   \n",
       "1 2019-02-01     10468  EV Connect                      2   \n",
       "2 2019-03-01     11520  EV Connect                      0   \n",
       "3 2019-01-01     10468  EV Connect                      6   \n",
       "4 2019-02-01     11520  EV Connect                     11   \n",
       "\n",
       "   Total Duration (hours)  Energy_kWh  Charging Sessions  \\\n",
       "0                       9     127.348                  6   \n",
       "1                      20    1135.876                 45   \n",
       "2                      22     100.271                  9   \n",
       "3                      17    1580.828                 54   \n",
       "4                       0     425.306                 45   \n",
       "\n",
       "   Active Station Count  Active Port Count quarter  Avg_Energy  Median_Energy  \\\n",
       "0                     3                  3  2019Q1  540.841534       281.6505   \n",
       "1                     3                  3  2019Q1  540.841534       281.6505   \n",
       "2                     2                  2  2019Q1  540.841534       281.6505   \n",
       "3                     3                  3  2019Q1  540.841534       281.6505   \n",
       "4                     2                  2  2019Q1  540.841534       281.6505   \n",
       "\n",
       "   Total_Energy  \n",
       "0    157925.728  \n",
       "1    157925.728  \n",
       "2    157925.728  \n",
       "3    157925.728  \n",
       "4    157925.728  "
      ]
     },
     "execution_count": 13,
     "metadata": {},
     "output_type": "execute_result"
    }
   ],
   "source": [
    "charge_sesssion.head()"
   ]
  },
  {
   "cell_type": "code",
   "execution_count": 14,
   "metadata": {},
   "outputs": [
    {
     "name": "stdout",
     "output_type": "stream",
     "text": [
      "<class 'pandas.core.frame.DataFrame'>\n",
      "RangeIndex: 6857 entries, 0 to 6856\n",
      "Data columns (total 13 columns):\n",
      " #   Column                  Non-Null Count  Dtype         \n",
      "---  ------                  --------------  -----         \n",
      " 0   Start Date              6857 non-null   datetime64[ns]\n",
      " 1   ZIP Code                6857 non-null   int64         \n",
      " 2   Network                 6857 non-null   object        \n",
      " 3   Charging Time (hours)   6857 non-null   int64         \n",
      " 4   Total Duration (hours)  6857 non-null   int64         \n",
      " 5   Energy_kWh              6857 non-null   float64       \n",
      " 6   Charging Sessions       6857 non-null   int64         \n",
      " 7   Active Station Count    6857 non-null   int64         \n",
      " 8   Active Port Count       6857 non-null   int64         \n",
      " 9   quarter                 6857 non-null   period[Q-DEC] \n",
      " 10  Avg_Energy              6857 non-null   float64       \n",
      " 11  Median_Energy           6857 non-null   float64       \n",
      " 12  Total_Energy            6857 non-null   float64       \n",
      "dtypes: datetime64[ns](1), float64(4), int64(6), object(1), period[Q-DEC](1)\n",
      "memory usage: 696.5+ KB\n"
     ]
    }
   ],
   "source": [
    "charge_sesssion.info()"
   ]
  },
  {
   "cell_type": "code",
   "execution_count": 15,
   "metadata": {},
   "outputs": [],
   "source": [
    "#Converting the datatype of quarter to string for plotting\n",
    "charge_sesssion['quarter'] = charge_sesssion['quarter'].astype('str')"
   ]
  },
  {
   "cell_type": "code",
   "execution_count": 16,
   "metadata": {},
   "outputs": [
    {
     "data": {
      "text/html": [
       "<div>\n",
       "<style scoped>\n",
       "    .dataframe tbody tr th:only-of-type {\n",
       "        vertical-align: middle;\n",
       "    }\n",
       "\n",
       "    .dataframe tbody tr th {\n",
       "        vertical-align: top;\n",
       "    }\n",
       "\n",
       "    .dataframe thead th {\n",
       "        text-align: right;\n",
       "    }\n",
       "</style>\n",
       "<table border=\"1\" class=\"dataframe\">\n",
       "  <thead>\n",
       "    <tr style=\"text-align: right;\">\n",
       "      <th></th>\n",
       "      <th>Start Date</th>\n",
       "      <th>ZIP Code</th>\n",
       "      <th>Network</th>\n",
       "      <th>Charging Time (hours)</th>\n",
       "      <th>Total Duration (hours)</th>\n",
       "      <th>Energy_kWh</th>\n",
       "      <th>Charging Sessions</th>\n",
       "      <th>Active Station Count</th>\n",
       "      <th>Active Port Count</th>\n",
       "      <th>quarter</th>\n",
       "      <th>Avg_Energy</th>\n",
       "      <th>Median_Energy</th>\n",
       "      <th>Total_Energy</th>\n",
       "    </tr>\n",
       "  </thead>\n",
       "  <tbody>\n",
       "    <tr>\n",
       "      <th>0</th>\n",
       "      <td>2019-03-01</td>\n",
       "      <td>10468</td>\n",
       "      <td>EV Connect</td>\n",
       "      <td>8</td>\n",
       "      <td>9</td>\n",
       "      <td>127.348</td>\n",
       "      <td>6</td>\n",
       "      <td>3</td>\n",
       "      <td>3</td>\n",
       "      <td>2019Q1</td>\n",
       "      <td>540.841534</td>\n",
       "      <td>281.6505</td>\n",
       "      <td>157925.728</td>\n",
       "    </tr>\n",
       "    <tr>\n",
       "      <th>1</th>\n",
       "      <td>2019-02-01</td>\n",
       "      <td>10468</td>\n",
       "      <td>EV Connect</td>\n",
       "      <td>2</td>\n",
       "      <td>20</td>\n",
       "      <td>1135.876</td>\n",
       "      <td>45</td>\n",
       "      <td>3</td>\n",
       "      <td>3</td>\n",
       "      <td>2019Q1</td>\n",
       "      <td>540.841534</td>\n",
       "      <td>281.6505</td>\n",
       "      <td>157925.728</td>\n",
       "    </tr>\n",
       "    <tr>\n",
       "      <th>2</th>\n",
       "      <td>2019-03-01</td>\n",
       "      <td>11520</td>\n",
       "      <td>EV Connect</td>\n",
       "      <td>0</td>\n",
       "      <td>22</td>\n",
       "      <td>100.271</td>\n",
       "      <td>9</td>\n",
       "      <td>2</td>\n",
       "      <td>2</td>\n",
       "      <td>2019Q1</td>\n",
       "      <td>540.841534</td>\n",
       "      <td>281.6505</td>\n",
       "      <td>157925.728</td>\n",
       "    </tr>\n",
       "    <tr>\n",
       "      <th>3</th>\n",
       "      <td>2019-01-01</td>\n",
       "      <td>10468</td>\n",
       "      <td>EV Connect</td>\n",
       "      <td>6</td>\n",
       "      <td>17</td>\n",
       "      <td>1580.828</td>\n",
       "      <td>54</td>\n",
       "      <td>3</td>\n",
       "      <td>3</td>\n",
       "      <td>2019Q1</td>\n",
       "      <td>540.841534</td>\n",
       "      <td>281.6505</td>\n",
       "      <td>157925.728</td>\n",
       "    </tr>\n",
       "    <tr>\n",
       "      <th>4</th>\n",
       "      <td>2019-02-01</td>\n",
       "      <td>11520</td>\n",
       "      <td>EV Connect</td>\n",
       "      <td>11</td>\n",
       "      <td>0</td>\n",
       "      <td>425.306</td>\n",
       "      <td>45</td>\n",
       "      <td>2</td>\n",
       "      <td>2</td>\n",
       "      <td>2019Q1</td>\n",
       "      <td>540.841534</td>\n",
       "      <td>281.6505</td>\n",
       "      <td>157925.728</td>\n",
       "    </tr>\n",
       "  </tbody>\n",
       "</table>\n",
       "</div>"
      ],
      "text/plain": [
       "  Start Date  ZIP Code     Network  Charging Time (hours)  \\\n",
       "0 2019-03-01     10468  EV Connect                      8   \n",
       "1 2019-02-01     10468  EV Connect                      2   \n",
       "2 2019-03-01     11520  EV Connect                      0   \n",
       "3 2019-01-01     10468  EV Connect                      6   \n",
       "4 2019-02-01     11520  EV Connect                     11   \n",
       "\n",
       "   Total Duration (hours)  Energy_kWh  Charging Sessions  \\\n",
       "0                       9     127.348                  6   \n",
       "1                      20    1135.876                 45   \n",
       "2                      22     100.271                  9   \n",
       "3                      17    1580.828                 54   \n",
       "4                       0     425.306                 45   \n",
       "\n",
       "   Active Station Count  Active Port Count quarter  Avg_Energy  Median_Energy  \\\n",
       "0                     3                  3  2019Q1  540.841534       281.6505   \n",
       "1                     3                  3  2019Q1  540.841534       281.6505   \n",
       "2                     2                  2  2019Q1  540.841534       281.6505   \n",
       "3                     3                  3  2019Q1  540.841534       281.6505   \n",
       "4                     2                  2  2019Q1  540.841534       281.6505   \n",
       "\n",
       "   Total_Energy  \n",
       "0    157925.728  \n",
       "1    157925.728  \n",
       "2    157925.728  \n",
       "3    157925.728  \n",
       "4    157925.728  "
      ]
     },
     "execution_count": 16,
     "metadata": {},
     "output_type": "execute_result"
    }
   ],
   "source": [
    "charge_sesssion.head()"
   ]
  },
  {
   "cell_type": "code",
   "execution_count": 17,
   "metadata": {},
   "outputs": [],
   "source": [
    "#Keeping only the columns needed for plotting\n",
    "charge_session_final = charge_sesssion[['quarter','Total_Energy','Avg_Energy','Median_Energy']]"
   ]
  },
  {
   "cell_type": "code",
   "execution_count": 18,
   "metadata": {},
   "outputs": [],
   "source": [
    "#Dropping the duplicates\n",
    "charge_session_final = charge_session_final.drop_duplicates()"
   ]
  },
  {
   "cell_type": "code",
   "execution_count": 19,
   "metadata": {},
   "outputs": [
    {
     "data": {
      "text/html": [
       "<div>\n",
       "<style scoped>\n",
       "    .dataframe tbody tr th:only-of-type {\n",
       "        vertical-align: middle;\n",
       "    }\n",
       "\n",
       "    .dataframe tbody tr th {\n",
       "        vertical-align: top;\n",
       "    }\n",
       "\n",
       "    .dataframe thead th {\n",
       "        text-align: right;\n",
       "    }\n",
       "</style>\n",
       "<table border=\"1\" class=\"dataframe\">\n",
       "  <thead>\n",
       "    <tr style=\"text-align: right;\">\n",
       "      <th></th>\n",
       "      <th>quarter</th>\n",
       "      <th>Total_Energy</th>\n",
       "      <th>Avg_Energy</th>\n",
       "      <th>Median_Energy</th>\n",
       "    </tr>\n",
       "  </thead>\n",
       "  <tbody>\n",
       "    <tr>\n",
       "      <th>0</th>\n",
       "      <td>2019Q1</td>\n",
       "      <td>157925.728</td>\n",
       "      <td>540.841534</td>\n",
       "      <td>281.6505</td>\n",
       "    </tr>\n",
       "    <tr>\n",
       "      <th>5</th>\n",
       "      <td>2018Q4</td>\n",
       "      <td>161609.878</td>\n",
       "      <td>513.047232</td>\n",
       "      <td>281.9910</td>\n",
       "    </tr>\n",
       "    <tr>\n",
       "      <th>33</th>\n",
       "      <td>2016Q2</td>\n",
       "      <td>81081.979</td>\n",
       "      <td>253.381184</td>\n",
       "      <td>138.9595</td>\n",
       "    </tr>\n",
       "    <tr>\n",
       "      <th>63</th>\n",
       "      <td>2016Q1</td>\n",
       "      <td>80602.809</td>\n",
       "      <td>247.247880</td>\n",
       "      <td>114.5365</td>\n",
       "    </tr>\n",
       "    <tr>\n",
       "      <th>128</th>\n",
       "      <td>2015Q4</td>\n",
       "      <td>61600.238</td>\n",
       "      <td>240.625930</td>\n",
       "      <td>131.9055</td>\n",
       "    </tr>\n",
       "  </tbody>\n",
       "</table>\n",
       "</div>"
      ],
      "text/plain": [
       "    quarter  Total_Energy  Avg_Energy  Median_Energy\n",
       "0    2019Q1    157925.728  540.841534       281.6505\n",
       "5    2018Q4    161609.878  513.047232       281.9910\n",
       "33   2016Q2     81081.979  253.381184       138.9595\n",
       "63   2016Q1     80602.809  247.247880       114.5365\n",
       "128  2015Q4     61600.238  240.625930       131.9055"
      ]
     },
     "execution_count": 19,
     "metadata": {},
     "output_type": "execute_result"
    }
   ],
   "source": [
    "charge_session_final.head()"
   ]
  },
  {
   "cell_type": "code",
   "execution_count": 20,
   "metadata": {},
   "outputs": [],
   "source": [
    "#For sorting the data by quarted, creating a new column with just numbers\n",
    "charge_session_final['q'] = charge_session_final['quarter'].str.replace(r'\\D', '')"
   ]
  },
  {
   "cell_type": "code",
   "execution_count": 21,
   "metadata": {},
   "outputs": [],
   "source": [
    "#Sorting the dataset \n",
    "charge_session_final= charge_session_final.sort_values(\"q\")"
   ]
  },
  {
   "cell_type": "code",
   "execution_count": 22,
   "metadata": {},
   "outputs": [
    {
     "data": {
      "image/png": "[encoded data removed]",
      "text/plain": [
       "<Figure size 1440x432 with 2 Axes>"
      ]
     },
     "metadata": {
      "needs_background": "light"
     },
     "output_type": "display_data"
    }
   ],
   "source": [
    "#Plotting the EV Charging session - Engery use over time\n",
    "\n",
    "fig, ax1 = plt.subplots(figsize=(20,6))\n",
    "color = 'tab:green'\n",
    "ax1.set_title('NY EV Charging Stations - Energy Use Over Time', fontsize=16)\n",
    "ax1.set_xlabel('Quarter', fontsize=16)\n",
    "ax2 = sns.barplot(x='quarter', y='Avg_Energy', data = charge_session_final, palette='summer')\n",
    "                  #order=charge_session_final.sort_values('Avg_Energy',ascending = True).quarter)\n",
    "ax1.tick_params(axis='y')\n",
    "ax1.set_ylabel('Avg Energy Used', fontsize=16, color=color)\n",
    "ax2 = ax1.twinx()\n",
    "color = 'tab:red'\n",
    "ax1.set_xlabel('Quarter', fontsize=16)\n",
    "ax2 = sns.lineplot(x='quarter', y='Total_Energy', data = charge_session_final, sort=True, color=color)\n",
    "ax2.tick_params(axis='y', color=color)\n",
    "\n",
    "ax2.set_ylabel('Total Energy', fontsize=16, color=color)\n",
    "#plt.xticks(rotation=45)\n",
    "\n",
    "for tick in ax1.get_xticklabels():\n",
    "    tick.set_rotation(45)\n",
    "    \n",
    "plt.show()\n",
    "fig.savefig('ny_charge_energy.png')"
   ]
  },
  {
   "cell_type": "markdown",
   "metadata": {},
   "source": [
    "We tried to create a twin plot (bar chart + Line chart) to show the engergy use over time and total energy used by quarter."
   ]
  },
  {
   "cell_type": "markdown",
   "metadata": {},
   "source": [
    "#### **NY EV Charging Sessions Duration**"
   ]
  },
  {
   "cell_type": "code",
   "execution_count": 23,
   "metadata": {},
   "outputs": [],
   "source": [
    "#Creating dataset for EV Charging session duration\n",
    "charge_sesssion_duration = charge_sesssion_duration[['quarter','Network','Charging Time (hours)','Total Duration (hours)','Charging Sessions']]"
   ]
  },
  {
   "cell_type": "code",
   "execution_count": 24,
   "metadata": {},
   "outputs": [],
   "source": [
    "# Renaming the columns\n",
    "charge_sesssion_duration = charge_sesssion_duration.rename(columns={'Charging Time (hours)' : 'Charging_time', 'Total Duration (hours)':'Total_Duration', 'Charging Sessions': 'Charging_Sessions'})"
   ]
  },
  {
   "cell_type": "code",
   "execution_count": 25,
   "metadata": {},
   "outputs": [
    {
     "data": {
      "text/html": [
       "<div>\n",
       "<style scoped>\n",
       "    .dataframe tbody tr th:only-of-type {\n",
       "        vertical-align: middle;\n",
       "    }\n",
       "\n",
       "    .dataframe tbody tr th {\n",
       "        vertical-align: top;\n",
       "    }\n",
       "\n",
       "    .dataframe thead th {\n",
       "        text-align: right;\n",
       "    }\n",
       "</style>\n",
       "<table border=\"1\" class=\"dataframe\">\n",
       "  <thead>\n",
       "    <tr style=\"text-align: right;\">\n",
       "      <th></th>\n",
       "      <th>quarter</th>\n",
       "      <th>Network</th>\n",
       "      <th>Charging_time</th>\n",
       "      <th>Total_Duration</th>\n",
       "      <th>Charging_Sessions</th>\n",
       "    </tr>\n",
       "  </thead>\n",
       "  <tbody>\n",
       "    <tr>\n",
       "      <th>0</th>\n",
       "      <td>2019Q1</td>\n",
       "      <td>EV Connect</td>\n",
       "      <td>8</td>\n",
       "      <td>9</td>\n",
       "      <td>6</td>\n",
       "    </tr>\n",
       "    <tr>\n",
       "      <th>1</th>\n",
       "      <td>2019Q1</td>\n",
       "      <td>EV Connect</td>\n",
       "      <td>2</td>\n",
       "      <td>20</td>\n",
       "      <td>45</td>\n",
       "    </tr>\n",
       "    <tr>\n",
       "      <th>2</th>\n",
       "      <td>2019Q1</td>\n",
       "      <td>EV Connect</td>\n",
       "      <td>0</td>\n",
       "      <td>22</td>\n",
       "      <td>9</td>\n",
       "    </tr>\n",
       "    <tr>\n",
       "      <th>3</th>\n",
       "      <td>2019Q1</td>\n",
       "      <td>EV Connect</td>\n",
       "      <td>6</td>\n",
       "      <td>17</td>\n",
       "      <td>54</td>\n",
       "    </tr>\n",
       "    <tr>\n",
       "      <th>4</th>\n",
       "      <td>2019Q1</td>\n",
       "      <td>EV Connect</td>\n",
       "      <td>11</td>\n",
       "      <td>0</td>\n",
       "      <td>45</td>\n",
       "    </tr>\n",
       "  </tbody>\n",
       "</table>\n",
       "</div>"
      ],
      "text/plain": [
       "  quarter     Network  Charging_time  Total_Duration  Charging_Sessions\n",
       "0  2019Q1  EV Connect              8               9                  6\n",
       "1  2019Q1  EV Connect              2              20                 45\n",
       "2  2019Q1  EV Connect              0              22                  9\n",
       "3  2019Q1  EV Connect              6              17                 54\n",
       "4  2019Q1  EV Connect             11               0                 45"
      ]
     },
     "execution_count": 25,
     "metadata": {},
     "output_type": "execute_result"
    }
   ],
   "source": [
    "charge_sesssion_duration.head()"
   ]
  },
  {
   "cell_type": "code",
   "execution_count": 26,
   "metadata": {},
   "outputs": [],
   "source": [
    "#Calculating Total charging time , grouping by quarter\n",
    "charge_sesssion_duration['Total_Charging_Time'] = charge_sesssion_duration.groupby(['quarter'])['Charging_time'].transform('sum')"
   ]
  },
  {
   "cell_type": "code",
   "execution_count": 27,
   "metadata": {},
   "outputs": [],
   "source": [
    "#Calculating Total charging sessions , grouping by quarter\n",
    "charge_sesssion_duration['Total_Charging_Sessions'] = charge_sesssion_duration.groupby(['quarter'])['Charging_Sessions'].transform('sum')"
   ]
  },
  {
   "cell_type": "code",
   "execution_count": 28,
   "metadata": {},
   "outputs": [],
   "source": [
    "#Dropping duplicate rows\n",
    "charge_sesssion_duration = charge_sesssion_duration.drop_duplicates()"
   ]
  },
  {
   "cell_type": "code",
   "execution_count": 29,
   "metadata": {},
   "outputs": [],
   "source": [
    "#Keeping only the columns needed for plotting\n",
    "charge_sesssion_duration_final = charge_sesssion_duration[['quarter','Total_Charging_Time','Total_Charging_Sessions']]"
   ]
  },
  {
   "cell_type": "code",
   "execution_count": 30,
   "metadata": {},
   "outputs": [],
   "source": [
    "charge_sesssion_duration_final = charge_sesssion_duration_final.drop_duplicates()"
   ]
  },
  {
   "cell_type": "code",
   "execution_count": 31,
   "metadata": {},
   "outputs": [
    {
     "name": "stdout",
     "output_type": "stream",
     "text": [
      "<class 'pandas.core.frame.DataFrame'>\n",
      "Int64Index: 39 entries, 0 to 5767\n",
      "Data columns (total 3 columns):\n",
      " #   Column                   Non-Null Count  Dtype        \n",
      "---  ------                   --------------  -----        \n",
      " 0   quarter                  39 non-null     period[Q-DEC]\n",
      " 1   Total_Charging_Time      39 non-null     int64        \n",
      " 2   Total_Charging_Sessions  39 non-null     int64        \n",
      "dtypes: int64(2), period[Q-DEC](1)\n",
      "memory usage: 1.2 KB\n"
     ]
    }
   ],
   "source": [
    "charge_sesssion_duration_final.info()"
   ]
  },
  {
   "cell_type": "code",
   "execution_count": 32,
   "metadata": {},
   "outputs": [],
   "source": [
    "#Changing the datatype to string\n",
    "charge_sesssion_duration_final['quarter'] = charge_sesssion_duration_final['quarter'].astype('str')"
   ]
  },
  {
   "cell_type": "code",
   "execution_count": 33,
   "metadata": {},
   "outputs": [],
   "source": [
    "charge_sesssion_duration_final['q'] = charge_sesssion_duration_final['quarter'].str.replace(r'\\D', '')"
   ]
  },
  {
   "cell_type": "code",
   "execution_count": 34,
   "metadata": {},
   "outputs": [],
   "source": [
    "charge_sesssion_duration_final= charge_sesssion_duration_final.sort_values(\"q\")"
   ]
  },
  {
   "cell_type": "code",
   "execution_count": 35,
   "metadata": {},
   "outputs": [
    {
     "data": {
      "image/png": "[encoded data removed]",
      "text/plain": [
       "<Figure size 1440x432 with 2 Axes>"
      ]
     },
     "metadata": {
      "needs_background": "light"
     },
     "output_type": "display_data"
    }
   ],
   "source": [
    "#Plotting the EV Charging session Duration\n",
    "\n",
    "fig1, bx1 = plt.subplots(figsize=(20,6))\n",
    "color = 'tab:orange'\n",
    "bx1.set_title('NY EV Charging Stations - Session Duration', fontsize=16)\n",
    "bx1.set_xlabel('Quarter', fontsize=16)\n",
    "bx1 = sns.barplot(x='quarter', y='Total_Charging_Time', data = charge_sesssion_duration_final, palette='OrRd')\n",
    "bx1.tick_params(axis='y')\n",
    "bx1.set_ylabel('Charging Time in Hours', fontsize=16, color=color)\n",
    "bx2 = bx1.twinx()\n",
    "color = 'tab:green'\n",
    "bx1.set_xlabel('Quarter', fontsize=16)\n",
    "bx2 = sns.lineplot(x='quarter', y='Total_Charging_Sessions', data = charge_sesssion_duration_final, sort=True, color=color)\n",
    "bx2.tick_params(axis='y', color=color)\n",
    "\n",
    "bx2.set_ylabel('Charging Sessions', fontsize=16, color=color)\n",
    "#plt.xticks(rotation=45)\n",
    "\n",
    "for tick in bx1.get_xticklabels():\n",
    "    tick.set_rotation(45)\n",
    "    \n",
    "plt.show()\n",
    "fig1.savefig('ny_charge_duration.png')"
   ]
  },
  {
   "cell_type": "markdown",
   "metadata": {},
   "source": [
    "At present, New York's charging capacity is limited for the nearly 15,000 electric vehicles registered in the city. About 1,400 level-2 charging plugs, which provide an 80% charge in four to eight hours, and 117 fast-charging plugs, which offer an 80% charge in 30 minutes to an hour, can be found across the city.\n",
    "\n",
    "\n",
    "We analyzed at the Charging Session dataset to see the total charging hours for given charging session. The Charging duration was more before many of the DC Fast ports were installed, Recent years, with less number of session more charging is happening.\n",
    "\n",
    "In the emerging EV charging market, time-starved consumers will likely value their time highly enough to pay a premium for speed. They’ll look for convenient locations with the fastest charging times, and they’ll be disinclined to use reservations apps. Providers targeting these consumers will build extra capacity to maximize availability and offer the fastest chargers.\n",
    "\n",
    "Most of the public EV charging stations are opened 24/7 and they are equipped with Credit Card readers, but major network providers offer online payment, app based payment."
   ]
  },
  {
   "cell_type": "code",
   "execution_count": null,
   "metadata": {},
   "outputs": [],
   "source": []
  }
 ],
 "metadata": {
  "kernelspec": {
   "display_name": "Python 3",
   "language": "python",
   "name": "python3"
  },
  "language_info": {
   "codemirror_mode": {
    "name": "ipython",
    "version": 3
   },
   "file_extension": ".py",
   "mimetype": "text/x-python",
   "name": "python",
   "nbconvert_exporter": "python",
   "pygments_lexer": "ipython3",
   "version": "3.8.8"
  }
 },
 "nbformat": 4,
 "nbformat_minor": 4
}
