{
 "cells": [
  {
   "cell_type": "markdown",
   "id": "3f394adf-eb24-4866-99cb-989ad4ad8b8b",
   "metadata": {},
   "source": [
    "# Library imports"
   ]
  },
  {
   "cell_type": "code",
   "execution_count": 1,
   "id": "6165030f-4d47-49ad-ac07-63a69784010d",
   "metadata": {},
   "outputs": [],
   "source": [
    "import pandas as pd\n",
    "import numpy as np\n",
    "import geopandas as gpd\n",
    "from shapely.geometry import MultiPoint, Point\n",
    "import random\n",
    "import zipfile\n",
    "from geomanip.poly_contains import combine_geom_dfs\n",
    "from geomanip.haversine import haversine_2_way\n",
    "from geomanip.endpoint_algorithm import find_dist_ratio\n",
    "from geomanip.inher_super import inherently_superior\n",
    "import requests\n",
    "import folium\n",
    "import os"
   ]
  },
  {
   "cell_type": "markdown",
   "id": "692e8ada-5ff2-43c3-8172-a95c455f1d41",
   "metadata": {},
   "source": [
    "First, we read the routed generated from the 100 Zip Codes with the most EV registrations. This data was generated in the prior workbook."
   ]
  },
  {
   "cell_type": "code",
   "execution_count": 2,
   "id": "af29f983-19f6-4fca-b724-0b87d7725a8d",
   "metadata": {},
   "outputs": [],
   "source": [
    "top_routes = gpd.read_file('assets/top_routes.geojson')"
   ]
  },
  {
   "cell_type": "code",
   "execution_count": 3,
   "id": "21a733b6-03a6-48d1-b600-8c82d3a1d5c2",
   "metadata": {},
   "outputs": [
    {
     "data": {
      "text/html": [
       "<div>\n",
       "<style scoped>\n",
       "    .dataframe tbody tr th:only-of-type {\n",
       "        vertical-align: middle;\n",
       "    }\n",
       "\n",
       "    .dataframe tbody tr th {\n",
       "        vertical-align: top;\n",
       "    }\n",
       "\n",
       "    .dataframe thead th {\n",
       "        text-align: right;\n",
       "    }\n",
       "</style>\n",
       "<table border=\"1\" class=\"dataframe\">\n",
       "  <thead>\n",
       "    <tr style=\"text-align: right;\">\n",
       "      <th></th>\n",
       "      <th>id</th>\n",
       "      <th>direction</th>\n",
       "      <th>part</th>\n",
       "      <th>route</th>\n",
       "      <th>route_num</th>\n",
       "      <th>seed_direction</th>\n",
       "      <th>seed_station</th>\n",
       "      <th>seed_traffic</th>\n",
       "      <th>station</th>\n",
       "      <th>traffic</th>\n",
       "      <th>traffic_adj</th>\n",
       "      <th>traffic_perc</th>\n",
       "      <th>geometry</th>\n",
       "    </tr>\n",
       "  </thead>\n",
       "  <tbody>\n",
       "    <tr>\n",
       "      <th>0</th>\n",
       "      <td>0</td>\n",
       "      <td>5.0</td>\n",
       "      <td>1</td>\n",
       "      <td>1</td>\n",
       "      <td>140</td>\n",
       "      <td>5.0</td>\n",
       "      <td>870855</td>\n",
       "      <td>603</td>\n",
       "      <td>870855</td>\n",
       "      <td>603.000000</td>\n",
       "      <td>4.307143</td>\n",
       "      <td>1.000000</td>\n",
       "      <td>MULTILINESTRING ((-73.75857 40.97684, -73.7586...</td>\n",
       "    </tr>\n",
       "    <tr>\n",
       "      <th>1</th>\n",
       "      <td>1</td>\n",
       "      <td>5.0</td>\n",
       "      <td>2</td>\n",
       "      <td>1</td>\n",
       "      <td>140</td>\n",
       "      <td>5.0</td>\n",
       "      <td>870855</td>\n",
       "      <td>603</td>\n",
       "      <td>870139</td>\n",
       "      <td>244.761282</td>\n",
       "      <td>1.748295</td>\n",
       "      <td>0.405906</td>\n",
       "      <td>MULTILINESTRING ((-73.77416 40.96965, -73.7741...</td>\n",
       "    </tr>\n",
       "    <tr>\n",
       "      <th>2</th>\n",
       "      <td>2</td>\n",
       "      <td>5.0</td>\n",
       "      <td>3</td>\n",
       "      <td>1</td>\n",
       "      <td>140</td>\n",
       "      <td>5.0</td>\n",
       "      <td>870855</td>\n",
       "      <td>603</td>\n",
       "      <td>876138</td>\n",
       "      <td>145.569626</td>\n",
       "      <td>1.039783</td>\n",
       "      <td>0.241409</td>\n",
       "      <td>MULTILINESTRING ((-73.77224 40.95869, -73.7723...</td>\n",
       "    </tr>\n",
       "    <tr>\n",
       "      <th>3</th>\n",
       "      <td>3</td>\n",
       "      <td>5.0</td>\n",
       "      <td>4</td>\n",
       "      <td>1</td>\n",
       "      <td>140</td>\n",
       "      <td>5.0</td>\n",
       "      <td>870855</td>\n",
       "      <td>603</td>\n",
       "      <td>871135</td>\n",
       "      <td>88.974253</td>\n",
       "      <td>0.635530</td>\n",
       "      <td>0.147553</td>\n",
       "      <td>MULTILINESTRING ((-73.79704 40.95447, -73.7969...</td>\n",
       "    </tr>\n",
       "    <tr>\n",
       "      <th>4</th>\n",
       "      <td>4</td>\n",
       "      <td>7.0</td>\n",
       "      <td>5</td>\n",
       "      <td>1</td>\n",
       "      <td>140</td>\n",
       "      <td>5.0</td>\n",
       "      <td>870855</td>\n",
       "      <td>603</td>\n",
       "      <td>878017</td>\n",
       "      <td>2.148334</td>\n",
       "      <td>0.015345</td>\n",
       "      <td>0.003563</td>\n",
       "      <td>MULTILINESTRING ((-73.78939 40.92759, -73.7895...</td>\n",
       "    </tr>\n",
       "  </tbody>\n",
       "</table>\n",
       "</div>"
      ],
      "text/plain": [
       "  id  direction  part  route  route_num  seed_direction seed_station  \\\n",
       "0  0        5.0     1      1        140             5.0       870855   \n",
       "1  1        5.0     2      1        140             5.0       870855   \n",
       "2  2        5.0     3      1        140             5.0       870855   \n",
       "3  3        5.0     4      1        140             5.0       870855   \n",
       "4  4        7.0     5      1        140             5.0       870855   \n",
       "\n",
       "   seed_traffic station     traffic  traffic_adj  traffic_perc  \\\n",
       "0           603  870855  603.000000     4.307143      1.000000   \n",
       "1           603  870139  244.761282     1.748295      0.405906   \n",
       "2           603  876138  145.569626     1.039783      0.241409   \n",
       "3           603  871135   88.974253     0.635530      0.147553   \n",
       "4           603  878017    2.148334     0.015345      0.003563   \n",
       "\n",
       "                                            geometry  \n",
       "0  MULTILINESTRING ((-73.75857 40.97684, -73.7586...  \n",
       "1  MULTILINESTRING ((-73.77416 40.96965, -73.7741...  \n",
       "2  MULTILINESTRING ((-73.77224 40.95869, -73.7723...  \n",
       "3  MULTILINESTRING ((-73.79704 40.95447, -73.7969...  \n",
       "4  MULTILINESTRING ((-73.78939 40.92759, -73.7895...  "
      ]
     },
     "execution_count": 3,
     "metadata": {},
     "output_type": "execute_result"
    }
   ],
   "source": [
    "top_routes.head()"
   ]
  },
  {
   "cell_type": "markdown",
   "id": "f19fd981-183c-477a-88a4-c2d97b637ac1",
   "metadata": {},
   "source": [
    "First, we grouped the dataframe by station and direction and computed the total traffic by section."
   ]
  },
  {
   "cell_type": "code",
   "execution_count": 4,
   "id": "607bc7e9-4762-4eb5-895c-9668bbbd40b8",
   "metadata": {},
   "outputs": [],
   "source": [
    "route_traffic = (top_routes\n",
    "                  .groupby(['station', 'direction'])\n",
    "                  .agg({'traffic_adj': 'sum', 'geometry': 'first'})\n",
    "                  .reset_index()  \n",
    "                 )"
   ]
  },
  {
   "cell_type": "markdown",
   "id": "7640b8bd-bb00-4a18-b511-f1ed7b13d183",
   "metadata": {},
   "source": [
    "Next, we sorted by estimated traffic and chose only the 1,000 most trafficked routes."
   ]
  },
  {
   "cell_type": "code",
   "execution_count": 5,
   "id": "f7ae887f-f2c7-4c36-bc57-2075a83cbfc8",
   "metadata": {},
   "outputs": [],
   "source": [
    "route_traffic = route_traffic.sort_values('traffic_adj', ascending=False).iloc[:1000]"
   ]
  },
  {
   "cell_type": "markdown",
   "id": "9f6fc5d6-0a70-428e-8eb8-cc097ed742c7",
   "metadata": {},
   "source": [
    "We then converted the grouped dataframe into a GeoDataFrame and set the crs."
   ]
  },
  {
   "cell_type": "code",
   "execution_count": 6,
   "id": "798e3b61-aaca-4ad3-8d1b-e7d9b9cc6e94",
   "metadata": {},
   "outputs": [],
   "source": [
    "route_traffic = gpd.GeoDataFrame(route_traffic, geometry='geometry')\n",
    "route_traffic.crs = 'EPSG:4326'"
   ]
  },
  {
   "cell_type": "markdown",
   "id": "8e26ee18-1d03-4d5b-9f2f-a5704f65192b",
   "metadata": {},
   "source": [
    "We created a function that generates a given number of random points inside a polygon. This was created to generate random points adjacent to each segment."
   ]
  },
  {
   "cell_type": "code",
   "execution_count": 7,
   "id": "1dc33365-e4ce-4498-9dfb-e33e3174a1fc",
   "metadata": {},
   "outputs": [],
   "source": [
    "def generate_random(polygon, number, seed=42):\n",
    "    \"\"\"\n",
    "    Generates number of random points within a Shapely Polygon\n",
    "    \n",
    "    Parameters\n",
    "    ----------\n",
    "    polygon - Shapely Polygon\n",
    "        polygon from which random points are drawn\n",
    "    number - int\n",
    "        number of random points to draw\n",
    "    seed - int\n",
    "        random seed set for reproducibility\n",
    "        \n",
    "    Returns\n",
    "    -------\n",
    "    Shapely MultiPoint shape with all generated points\n",
    "    \"\"\"\n",
    "    points = []\n",
    "    minx, miny, maxx, maxy = polygon.bounds\n",
    "    random.seed(seed)\n",
    "    while len(points) < number:\n",
    "        pnt = Point(random.uniform(minx, maxx), random.uniform(miny, maxy))\n",
    "        if polygon.contains(pnt):\n",
    "            points.append(pnt)\n",
    "    points = MultiPoint(points)\n",
    "    return points"
   ]
  },
  {
   "cell_type": "markdown",
   "id": "0c6ddfb2-0f29-46ba-9c51-0c8539ec5e64",
   "metadata": {},
   "source": [
    "We created a buffer around each segment to create polygons for generating points."
   ]
  },
  {
   "cell_type": "code",
   "execution_count": 8,
   "id": "c74f4ef7-8e73-4f44-95da-90827cc554cb",
   "metadata": {},
   "outputs": [
    {
     "name": "stderr",
     "output_type": "stream",
     "text": [
      "<ipython-input-8-cd13f26ec9f0>:1: UserWarning: Geometry is in a geographic CRS. Results from 'buffer' are likely incorrect. Use 'GeoSeries.to_crs()' to re-project geometries to a projected CRS before this operation.\n",
      "\n",
      "  route_traffic.geometry = route_traffic.buffer(0.001)\n"
     ]
    }
   ],
   "source": [
    "route_traffic.geometry = route_traffic.buffer(0.001)"
   ]
  },
  {
   "cell_type": "markdown",
   "id": "3f6add1d-11ef-4318-97e6-f0d2d13bb733",
   "metadata": {},
   "source": [
    "Next, we created a column with MulitPoint objects of 10 randomly selected points within each buffer zone using the previously created function."
   ]
  },
  {
   "cell_type": "code",
   "execution_count": 9,
   "id": "bf1f4877-0a6d-4e57-87ed-3e54e4b26273",
   "metadata": {},
   "outputs": [],
   "source": [
    "route_traffic['geom_point'] = route_traffic.geometry.map(lambda x: generate_random(x, 10))"
   ]
  },
  {
   "cell_type": "markdown",
   "id": "df990062-fb9e-497c-9dd9-35caf8f0f14f",
   "metadata": {},
   "source": [
    "We then renamed the geomtry columns and set the point geometries as the main geometry in our GeoDataFrame. This enables the explosion of the MultiPoint geometry into Point geometries."
   ]
  },
  {
   "cell_type": "code",
   "execution_count": 10,
   "id": "984fe457-cdc6-452a-b515-d768ffbf966e",
   "metadata": {},
   "outputs": [],
   "source": [
    "route_traffic.rename({'geometry': 'geom_poly', 'geom_point': 'geometry'}, axis=1, inplace=True)\n",
    "route_traffic = gpd.GeoDataFrame(route_traffic, geometry='geometry')\n",
    "route_traffic.crs = 'EPSG:4326'"
   ]
  },
  {
   "cell_type": "markdown",
   "id": "01535456-fe45-419b-96ea-0a0aaf87b1dc",
   "metadata": {},
   "source": [
    "We reset the index and exploded the MultiPoint geometries."
   ]
  },
  {
   "cell_type": "code",
   "execution_count": 11,
   "id": "12e986d3-fc22-42a4-b09e-1ba08538ec44",
   "metadata": {},
   "outputs": [],
   "source": [
    "route_traffic = route_traffic.reset_index().drop('index', axis=1)\n",
    "route_traffic = route_traffic.explode().reset_index()"
   ]
  },
  {
   "cell_type": "markdown",
   "id": "fe4f4345-b870-4f35-a398-2bdd9f228899",
   "metadata": {},
   "source": [
    "We then dropped the unnecessary grouping columns created by the `explode` method."
   ]
  },
  {
   "cell_type": "code",
   "execution_count": 12,
   "id": "be844915-c04c-4f92-99a2-b3b3edc85a31",
   "metadata": {},
   "outputs": [],
   "source": [
    "route_traffic.drop(['level_0', 'level_1'], axis=1, inplace=True)"
   ]
  },
  {
   "cell_type": "markdown",
   "id": "63a4c543-9ed4-4a09-b26d-0b683d1ba638",
   "metadata": {},
   "source": [
    "Next we extracted files from the NYC zoning geographic database. This contains geomtries of differently zoned areas in NYC."
   ]
  },
  {
   "cell_type": "code",
   "execution_count": 13,
   "id": "b9dada1e-0152-4a19-a3af-d590ed5876c7",
   "metadata": {},
   "outputs": [],
   "source": [
    "if not os.path.exists('assets/nyc_zoning'):\n",
    "    with zipfile.ZipFile('assets/nyc_zoning.zip', 'r') as nyc_zoning:\n",
    "        nyc_zoning.extractall('assets/nyc_zoning')"
   ]
  },
  {
   "cell_type": "markdown",
   "id": "8cc16541-8b47-4cd4-9770-aaef464c742a",
   "metadata": {},
   "source": [
    "We read the file for commercially zoned areas and set the crs accordingly. We assumed that charging stations would only be placed in areas zoned for commercial development."
   ]
  },
  {
   "cell_type": "code",
   "execution_count": 14,
   "id": "30ef7a26-4b07-45a0-8cc4-9cf946723640",
   "metadata": {},
   "outputs": [],
   "source": [
    "nyc_zoning = gpd.read_file('assets/nyc_zoning/nyc_zoning/nyco.shp')\n",
    "nyc_zoning.crs = 'EPSG:2263'\n",
    "nyc_zoning = nyc_zoning.to_crs('EPSG:4326')"
   ]
  },
  {
   "cell_type": "markdown",
   "id": "9bac0f35-71fd-4f33-8ec0-f443b30ba88f",
   "metadata": {},
   "source": [
    "We next combined the zoning and traffic dataframes using a vectorized function from our created `geomanip` package. This method finds all generated points that lie withing commercially zoned areas"
   ]
  },
  {
   "cell_type": "code",
   "execution_count": 15,
   "id": "879eea91-3d7a-401e-8ed2-ed93f9d1b360",
   "metadata": {},
   "outputs": [],
   "source": [
    "top_results_full = combine_geom_dfs(nyc_zoning, route_traffic, geo_name1 = 'geom_zoning', geo_name2='geom_route')"
   ]
  },
  {
   "cell_type": "code",
   "execution_count": 16,
   "id": "a622f650-eda8-4494-9678-6dcc04a10097",
   "metadata": {},
   "outputs": [
    {
     "data": {
      "text/plain": [
       "Index(['OVERLAY', 'Shape_Leng', 'Shape_Area', 'geom_zoning', 'station',\n",
       "       'direction', 'traffic_adj', 'geom_poly', 'geom_route'],\n",
       "      dtype='object')"
      ]
     },
     "execution_count": 16,
     "metadata": {},
     "output_type": "execute_result"
    }
   ],
   "source": [
    "top_results_full.columns"
   ]
  },
  {
   "cell_type": "markdown",
   "id": "2b60def9-1f23-458e-9e46-d301f06ea76a",
   "metadata": {},
   "source": [
    "We read the dataframe with all alternative fuel stations. This was used to determine the distance of commercially zoned points to the nearest existing charging station."
   ]
  },
  {
   "cell_type": "code",
   "execution_count": 17,
   "id": "cfa1f728-81e3-4a29-9800-8dbd6e196aa4",
   "metadata": {},
   "outputs": [],
   "source": [
    "stations = pd.read_csv('assets/alt_fuel_stations.csv', low_memory=False)"
   ]
  },
  {
   "cell_type": "markdown",
   "id": "ed6884ea-1635-4871-b3c8-af4810af7680",
   "metadata": {},
   "source": [
    "We selected only the stations with are in NY state and are below 41.5$^{\\circ}$N."
   ]
  },
  {
   "cell_type": "code",
   "execution_count": 18,
   "id": "464550e3-561a-44fb-8820-09884dd0643e",
   "metadata": {},
   "outputs": [],
   "source": [
    "stations_nyc = stations.loc[(stations['State'] == 'NY') & (stations['Latitude'] < 41.5)]"
   ]
  },
  {
   "cell_type": "markdown",
   "id": "47228889-2e7c-49dc-8d1c-8ba24fed49a4",
   "metadata": {},
   "source": [
    "We converted the latitude and longitude of the charging stations to Shapely Point objects, then converted the dataframe to a GeoDataFrame and set the crs."
   ]
  },
  {
   "cell_type": "code",
   "execution_count": 19,
   "id": "a1d7b709-3b33-4643-bcc4-55b23f72caf1",
   "metadata": {},
   "outputs": [
    {
     "name": "stderr",
     "output_type": "stream",
     "text": [
      "<ipython-input-19-10c82622e6f8>:1: SettingWithCopyWarning: \n",
      "A value is trying to be set on a copy of a slice from a DataFrame.\n",
      "Try using .loc[row_indexer,col_indexer] = value instead\n",
      "\n",
      "See the caveats in the documentation: https://pandas.pydata.org/pandas-docs/stable/user_guide/indexing.html#returning-a-view-versus-a-copy\n",
      "  stations_nyc['geometry'] = stations_nyc.apply(lambda x: Point(x['Longitude'], x['Latitude']), axis=1)\n"
     ]
    }
   ],
   "source": [
    "stations_nyc['geometry'] = stations_nyc.apply(lambda x: Point(x['Longitude'], x['Latitude']), axis=1)\n",
    "stations_nyc = gpd.GeoDataFrame(stations_nyc, geometry='geometry')\n",
    "stations_nyc.crs = 'EPSG:4326'"
   ]
  },
  {
   "cell_type": "markdown",
   "id": "19d41607-b68b-4925-811c-f0d3bfa913e6",
   "metadata": {},
   "source": [
    "We recreated the dataframe with commercially zoned points into a GeoDataFrame and set the crs."
   ]
  },
  {
   "cell_type": "code",
   "execution_count": 20,
   "id": "b4417b52-fff2-4641-a456-ec64dbf85206",
   "metadata": {},
   "outputs": [],
   "source": [
    "top_results_full = gpd.GeoDataFrame(top_results_full, geometry='geom_route')\n",
    "top_results_full.crs = 'EPSG:4326'"
   ]
  },
  {
   "cell_type": "markdown",
   "id": "611be742-1fc0-4214-a9e1-d16fe720fe84",
   "metadata": {},
   "source": [
    "Using the `haversine_2_way` vectorized function from the `geomanip` package that we created, we found the distance of each generated commercially zoned point to every EV charging station."
   ]
  },
  {
   "cell_type": "code",
   "execution_count": 21,
   "id": "2bffafa3-2c5e-4972-910f-6412440dd190",
   "metadata": {},
   "outputs": [],
   "source": [
    "stations_route = haversine_2_way(top_results_full.reset_index(), stations_nyc, units='imperial', \n",
    "                                 geo_col1='geom_route', geo_name1='geom_route', geo_name2='geom_station')"
   ]
  },
  {
   "cell_type": "markdown",
   "id": "93a259b1-cbf9-4c36-90ef-815a76388847",
   "metadata": {},
   "source": [
    "Next we grouped the resulting dataframe by the index and found the closest charging station to each point."
   ]
  },
  {
   "cell_type": "code",
   "execution_count": 22,
   "id": "e2a4dd5a-48ad-4d34-a820-147a713f088c",
   "metadata": {},
   "outputs": [],
   "source": [
    "g = stations_route.groupby('index')\n",
    "station_closest = g.apply(lambda x: x.sort_values('distance').iloc[0])"
   ]
  },
  {
   "cell_type": "markdown",
   "id": "cfc905f8-7765-43a7-a1e6-d973257bf51f",
   "metadata": {},
   "source": [
    "Next we adjusted the indices as they were no longer needed to identify points."
   ]
  },
  {
   "cell_type": "code",
   "execution_count": 23,
   "id": "9b380eab-8fcf-4a81-bcf5-ba5594590f48",
   "metadata": {},
   "outputs": [],
   "source": [
    "station_closest = (station_closest\n",
    "                  .rename({'index': 'index0'}, axis=1)\n",
    "                  .reset_index()\n",
    "                  .drop(['index', 'index0'], axis=1))"
   ]
  },
  {
   "cell_type": "markdown",
   "id": "612e651c-7482-4c65-b045-1ea9ff52074d",
   "metadata": {},
   "source": [
    "We used the `inherently superior` vectorized function from our created `geomanip` package. This function takes the dataset, with distance to a charging station and traffic and finds how many other possible locations each possible location is superior to. Points are characterized as superior to other points if both metrics are as high or higher than for another point. The `perc_sup` column is the percent of other points to which each point is superiror."
   ]
  },
  {
   "cell_type": "code",
   "execution_count": 24,
   "id": "d9430404-4602-43bb-a9ee-78cb7ac8322a",
   "metadata": {},
   "outputs": [],
   "source": [
    "station_closest['perc_sup'] = inherently_superior(station_closest[['distance', 'traffic_adj']])['perc_sup']\n"
   ]
  },
  {
   "cell_type": "markdown",
   "id": "f4585a25-9990-4f80-9f2c-f002ea04f4cf",
   "metadata": {},
   "source": [
    "We then chose the top 10 locations based on this evaluation of superiority."
   ]
  },
  {
   "cell_type": "code",
   "execution_count": 25,
   "id": "666947b3-7db1-411f-885e-095fd3c93200",
   "metadata": {},
   "outputs": [],
   "source": [
    "top_loc = station_closest.sort_values('perc_sup', ascending=False).iloc[:10]"
   ]
  },
  {
   "cell_type": "code",
   "execution_count": 26,
   "id": "aa58bdb4-0274-43eb-9925-8f5fa14c9a6a",
   "metadata": {},
   "outputs": [
    {
     "data": {
      "text/html": [
       "<div>\n",
       "<style scoped>\n",
       "    .dataframe tbody tr th:only-of-type {\n",
       "        vertical-align: middle;\n",
       "    }\n",
       "\n",
       "    .dataframe tbody tr th {\n",
       "        vertical-align: top;\n",
       "    }\n",
       "\n",
       "    .dataframe thead th {\n",
       "        text-align: right;\n",
       "    }\n",
       "</style>\n",
       "<table border=\"1\" class=\"dataframe\">\n",
       "  <thead>\n",
       "    <tr style=\"text-align: right;\">\n",
       "      <th></th>\n",
       "      <th>OVERLAY</th>\n",
       "      <th>Shape_Leng</th>\n",
       "      <th>Shape_Area</th>\n",
       "      <th>geom_zoning</th>\n",
       "      <th>station</th>\n",
       "      <th>direction</th>\n",
       "      <th>traffic_adj</th>\n",
       "      <th>geom_poly</th>\n",
       "      <th>geom_route</th>\n",
       "      <th>distance</th>\n",
       "      <th>...</th>\n",
       "      <th>Hydrogen Pressures</th>\n",
       "      <th>Hydrogen Standards</th>\n",
       "      <th>CNG Fill Type Code</th>\n",
       "      <th>CNG PSI</th>\n",
       "      <th>CNG Vehicle Class</th>\n",
       "      <th>LNG Vehicle Class</th>\n",
       "      <th>EV On-Site Renewable Source</th>\n",
       "      <th>Restricted Access</th>\n",
       "      <th>geom_station</th>\n",
       "      <th>perc_sup</th>\n",
       "    </tr>\n",
       "  </thead>\n",
       "  <tbody>\n",
       "    <tr>\n",
       "      <th>135</th>\n",
       "      <td>C1-3</td>\n",
       "      <td>1597.641551</td>\n",
       "      <td>70321.207270</td>\n",
       "      <td>POLYGON ((-73.96421219075391 40.62253839844913...</td>\n",
       "      <td>021189</td>\n",
       "      <td>1.0</td>\n",
       "      <td>100.195999</td>\n",
       "      <td>POLYGON ((-73.96599815922355 40.62337155093744...</td>\n",
       "      <td>POINT (-73.96431242085852 40.62265713415227)</td>\n",
       "      <td>11269.852009</td>\n",
       "      <td>...</td>\n",
       "      <td>NaN</td>\n",
       "      <td>NaN</td>\n",
       "      <td>NaN</td>\n",
       "      <td>NaN</td>\n",
       "      <td>NaN</td>\n",
       "      <td>NaN</td>\n",
       "      <td>NaN</td>\n",
       "      <td>NaN</td>\n",
       "      <td>POINT (-73.934605 40.601595)</td>\n",
       "      <td>0.940000</td>\n",
       "    </tr>\n",
       "    <tr>\n",
       "      <th>123</th>\n",
       "      <td>C2-4</td>\n",
       "      <td>1833.883122</td>\n",
       "      <td>85160.054471</td>\n",
       "      <td>POLYGON ((-73.96556566650732 40.62970644177518...</td>\n",
       "      <td>021189</td>\n",
       "      <td>1.0</td>\n",
       "      <td>100.195999</td>\n",
       "      <td>POLYGON ((-73.96599815922355 40.62337155093744...</td>\n",
       "      <td>POINT (-73.96596472051257 40.63151934762398)</td>\n",
       "      <td>9655.572912</td>\n",
       "      <td>...</td>\n",
       "      <td>NaN</td>\n",
       "      <td>NaN</td>\n",
       "      <td>NaN</td>\n",
       "      <td>NaN</td>\n",
       "      <td>NaN</td>\n",
       "      <td>NaN</td>\n",
       "      <td>NaN</td>\n",
       "      <td>NaN</td>\n",
       "      <td>POINT (-73.97752699999999 40.656459)</td>\n",
       "      <td>0.873333</td>\n",
       "    </tr>\n",
       "    <tr>\n",
       "      <th>141</th>\n",
       "      <td>C2-2</td>\n",
       "      <td>1318.762024</td>\n",
       "      <td>81526.600657</td>\n",
       "      <td>POLYGON ((-73.92967827495094 40.58643644135677...</td>\n",
       "      <td>020906</td>\n",
       "      <td>7.0</td>\n",
       "      <td>95.032183</td>\n",
       "      <td>POLYGON ((-73.9093162587283 40.59431571606489,...</td>\n",
       "      <td>POINT (-73.93040460032509 40.58610810464686)</td>\n",
       "      <td>5774.821608</td>\n",
       "      <td>...</td>\n",
       "      <td>NaN</td>\n",
       "      <td>NaN</td>\n",
       "      <td>NaN</td>\n",
       "      <td>NaN</td>\n",
       "      <td>NaN</td>\n",
       "      <td>NaN</td>\n",
       "      <td>NaN</td>\n",
       "      <td>NaN</td>\n",
       "      <td>POINT (-73.934605 40.601595)</td>\n",
       "      <td>0.693333</td>\n",
       "    </tr>\n",
       "    <tr>\n",
       "      <th>50</th>\n",
       "      <td>C2-2</td>\n",
       "      <td>706.363115</td>\n",
       "      <td>30191.361539</td>\n",
       "      <td>POLYGON ((-73.75781782182298 40.74816078230577...</td>\n",
       "      <td>050047</td>\n",
       "      <td>7.0</td>\n",
       "      <td>159.917042</td>\n",
       "      <td>POLYGON ((-73.75611525833661 40.74838273387774...</td>\n",
       "      <td>POINT (-73.75835707402331 40.74830864519535)</td>\n",
       "      <td>5338.358871</td>\n",
       "      <td>...</td>\n",
       "      <td>NaN</td>\n",
       "      <td>NaN</td>\n",
       "      <td>NaN</td>\n",
       "      <td>NaN</td>\n",
       "      <td>NaN</td>\n",
       "      <td>NaN</td>\n",
       "      <td>NaN</td>\n",
       "      <td>NaN</td>\n",
       "      <td>POINT (-73.77710399999999 40.744854)</td>\n",
       "      <td>0.686667</td>\n",
       "    </tr>\n",
       "    <tr>\n",
       "      <th>146</th>\n",
       "      <td>C1-3</td>\n",
       "      <td>1803.514432</td>\n",
       "      <td>79833.674600</td>\n",
       "      <td>POLYGON ((-73.96518777502872 40.62243063917565...</td>\n",
       "      <td>021138</td>\n",
       "      <td>7.0</td>\n",
       "      <td>13.456809</td>\n",
       "      <td>POLYGON ((-73.95748263527133 40.62460333790642...</td>\n",
       "      <td>POINT (-73.9653389015493 40.62402267344582)</td>\n",
       "      <td>11819.409610</td>\n",
       "      <td>...</td>\n",
       "      <td>NaN</td>\n",
       "      <td>NaN</td>\n",
       "      <td>NaN</td>\n",
       "      <td>NaN</td>\n",
       "      <td>NaN</td>\n",
       "      <td>NaN</td>\n",
       "      <td>NaN</td>\n",
       "      <td>NaN</td>\n",
       "      <td>POINT (-73.934605 40.601595)</td>\n",
       "      <td>0.666667</td>\n",
       "    </tr>\n",
       "    <tr>\n",
       "      <th>62</th>\n",
       "      <td>C1-2</td>\n",
       "      <td>1620.834235</td>\n",
       "      <td>129511.836437</td>\n",
       "      <td>POLYGON ((-73.73152517420824 40.75949029666447...</td>\n",
       "      <td>056018</td>\n",
       "      <td>1.0</td>\n",
       "      <td>14.840996</td>\n",
       "      <td>POLYGON ((-73.72951177592692 40.75508101552814...</td>\n",
       "      <td>POINT (-73.73210251794858 40.759642309027)</td>\n",
       "      <td>10163.076343</td>\n",
       "      <td>...</td>\n",
       "      <td>NaN</td>\n",
       "      <td>NaN</td>\n",
       "      <td>NaN</td>\n",
       "      <td>NaN</td>\n",
       "      <td>NaN</td>\n",
       "      <td>NaN</td>\n",
       "      <td>NaN</td>\n",
       "      <td>NaN</td>\n",
       "      <td>POINT (-73.72999900000001 40.787424)</td>\n",
       "      <td>0.646667</td>\n",
       "    </tr>\n",
       "    <tr>\n",
       "      <th>145</th>\n",
       "      <td>C1-4</td>\n",
       "      <td>453.542650</td>\n",
       "      <td>12669.438046</td>\n",
       "      <td>POLYGON ((-73.96841189251157 40.60892078397171...</td>\n",
       "      <td>021145</td>\n",
       "      <td>7.0</td>\n",
       "      <td>25.869827</td>\n",
       "      <td>POLYGON ((-73.96326138004056 40.60887981352835...</td>\n",
       "      <td>POINT (-73.96841443228283 40.60893076855984)</td>\n",
       "      <td>7527.894040</td>\n",
       "      <td>...</td>\n",
       "      <td>NaN</td>\n",
       "      <td>NaN</td>\n",
       "      <td>NaN</td>\n",
       "      <td>NaN</td>\n",
       "      <td>NaN</td>\n",
       "      <td>NaN</td>\n",
       "      <td>NaN</td>\n",
       "      <td>NaN</td>\n",
       "      <td>POINT (-73.960707 40.589167)</td>\n",
       "      <td>0.633333</td>\n",
       "    </tr>\n",
       "    <tr>\n",
       "      <th>133</th>\n",
       "      <td>C1-4</td>\n",
       "      <td>666.978052</td>\n",
       "      <td>23431.596882</td>\n",
       "      <td>POLYGON ((-73.97248586611182 40.60899433508917...</td>\n",
       "      <td>021144</td>\n",
       "      <td>7.0</td>\n",
       "      <td>24.440267</td>\n",
       "      <td>POLYGON ((-73.97342798197243 40.60971399337825...</td>\n",
       "      <td>POINT (-73.97241273826529 40.60912343177151)</td>\n",
       "      <td>7978.639878</td>\n",
       "      <td>...</td>\n",
       "      <td>NaN</td>\n",
       "      <td>NaN</td>\n",
       "      <td>NaN</td>\n",
       "      <td>NaN</td>\n",
       "      <td>NaN</td>\n",
       "      <td>NaN</td>\n",
       "      <td>NaN</td>\n",
       "      <td>NaN</td>\n",
       "      <td>POINT (-73.960707 40.589167)</td>\n",
       "      <td>0.633333</td>\n",
       "    </tr>\n",
       "    <tr>\n",
       "      <th>101</th>\n",
       "      <td>C1-4</td>\n",
       "      <td>604.732720</td>\n",
       "      <td>21808.308130</td>\n",
       "      <td>POLYGON ((-73.96851475796134 40.60945224235646...</td>\n",
       "      <td>021144</td>\n",
       "      <td>7.0</td>\n",
       "      <td>24.440267</td>\n",
       "      <td>POLYGON ((-73.97342798197243 40.60971399337825...</td>\n",
       "      <td>POINT (-73.96856324942762 40.60957389407129)</td>\n",
       "      <td>7764.871212</td>\n",
       "      <td>...</td>\n",
       "      <td>NaN</td>\n",
       "      <td>NaN</td>\n",
       "      <td>NaN</td>\n",
       "      <td>NaN</td>\n",
       "      <td>NaN</td>\n",
       "      <td>NaN</td>\n",
       "      <td>NaN</td>\n",
       "      <td>NaN</td>\n",
       "      <td>POINT (-73.960707 40.589167)</td>\n",
       "      <td>0.626667</td>\n",
       "    </tr>\n",
       "    <tr>\n",
       "      <th>97</th>\n",
       "      <td>C2-3</td>\n",
       "      <td>1186.803935</td>\n",
       "      <td>47889.466986</td>\n",
       "      <td>POLYGON ((-73.96157397842951 40.60856720165741...</td>\n",
       "      <td>021145</td>\n",
       "      <td>7.0</td>\n",
       "      <td>25.869827</td>\n",
       "      <td>POLYGON ((-73.96326138004056 40.60887981352835...</td>\n",
       "      <td>POINT (-73.9618212112516 40.60928072351123)</td>\n",
       "      <td>7352.415401</td>\n",
       "      <td>...</td>\n",
       "      <td>NaN</td>\n",
       "      <td>NaN</td>\n",
       "      <td>NaN</td>\n",
       "      <td>NaN</td>\n",
       "      <td>NaN</td>\n",
       "      <td>NaN</td>\n",
       "      <td>NaN</td>\n",
       "      <td>NaN</td>\n",
       "      <td>POINT (-73.960707 40.589167)</td>\n",
       "      <td>0.626667</td>\n",
       "    </tr>\n",
       "  </tbody>\n",
       "</table>\n",
       "<p>10 rows × 77 columns</p>\n",
       "</div>"
      ],
      "text/plain": [
       "    OVERLAY   Shape_Leng     Shape_Area  \\\n",
       "135    C1-3  1597.641551   70321.207270   \n",
       "123    C2-4  1833.883122   85160.054471   \n",
       "141    C2-2  1318.762024   81526.600657   \n",
       "50     C2-2   706.363115   30191.361539   \n",
       "146    C1-3  1803.514432   79833.674600   \n",
       "62     C1-2  1620.834235  129511.836437   \n",
       "145    C1-4   453.542650   12669.438046   \n",
       "133    C1-4   666.978052   23431.596882   \n",
       "101    C1-4   604.732720   21808.308130   \n",
       "97     C2-3  1186.803935   47889.466986   \n",
       "\n",
       "                                           geom_zoning station  direction  \\\n",
       "135  POLYGON ((-73.96421219075391 40.62253839844913...  021189        1.0   \n",
       "123  POLYGON ((-73.96556566650732 40.62970644177518...  021189        1.0   \n",
       "141  POLYGON ((-73.92967827495094 40.58643644135677...  020906        7.0   \n",
       "50   POLYGON ((-73.75781782182298 40.74816078230577...  050047        7.0   \n",
       "146  POLYGON ((-73.96518777502872 40.62243063917565...  021138        7.0   \n",
       "62   POLYGON ((-73.73152517420824 40.75949029666447...  056018        1.0   \n",
       "145  POLYGON ((-73.96841189251157 40.60892078397171...  021145        7.0   \n",
       "133  POLYGON ((-73.97248586611182 40.60899433508917...  021144        7.0   \n",
       "101  POLYGON ((-73.96851475796134 40.60945224235646...  021144        7.0   \n",
       "97   POLYGON ((-73.96157397842951 40.60856720165741...  021145        7.0   \n",
       "\n",
       "     traffic_adj                                          geom_poly  \\\n",
       "135   100.195999  POLYGON ((-73.96599815922355 40.62337155093744...   \n",
       "123   100.195999  POLYGON ((-73.96599815922355 40.62337155093744...   \n",
       "141    95.032183  POLYGON ((-73.9093162587283 40.59431571606489,...   \n",
       "50    159.917042  POLYGON ((-73.75611525833661 40.74838273387774...   \n",
       "146    13.456809  POLYGON ((-73.95748263527133 40.62460333790642...   \n",
       "62     14.840996  POLYGON ((-73.72951177592692 40.75508101552814...   \n",
       "145    25.869827  POLYGON ((-73.96326138004056 40.60887981352835...   \n",
       "133    24.440267  POLYGON ((-73.97342798197243 40.60971399337825...   \n",
       "101    24.440267  POLYGON ((-73.97342798197243 40.60971399337825...   \n",
       "97     25.869827  POLYGON ((-73.96326138004056 40.60887981352835...   \n",
       "\n",
       "                                       geom_route      distance  ...  \\\n",
       "135  POINT (-73.96431242085852 40.62265713415227)  11269.852009  ...   \n",
       "123  POINT (-73.96596472051257 40.63151934762398)   9655.572912  ...   \n",
       "141  POINT (-73.93040460032509 40.58610810464686)   5774.821608  ...   \n",
       "50   POINT (-73.75835707402331 40.74830864519535)   5338.358871  ...   \n",
       "146   POINT (-73.9653389015493 40.62402267344582)  11819.409610  ...   \n",
       "62     POINT (-73.73210251794858 40.759642309027)  10163.076343  ...   \n",
       "145  POINT (-73.96841443228283 40.60893076855984)   7527.894040  ...   \n",
       "133  POINT (-73.97241273826529 40.60912343177151)   7978.639878  ...   \n",
       "101  POINT (-73.96856324942762 40.60957389407129)   7764.871212  ...   \n",
       "97    POINT (-73.9618212112516 40.60928072351123)   7352.415401  ...   \n",
       "\n",
       "    Hydrogen Pressures Hydrogen Standards CNG Fill Type Code CNG PSI  \\\n",
       "135                NaN                NaN                NaN     NaN   \n",
       "123                NaN                NaN                NaN     NaN   \n",
       "141                NaN                NaN                NaN     NaN   \n",
       "50                 NaN                NaN                NaN     NaN   \n",
       "146                NaN                NaN                NaN     NaN   \n",
       "62                 NaN                NaN                NaN     NaN   \n",
       "145                NaN                NaN                NaN     NaN   \n",
       "133                NaN                NaN                NaN     NaN   \n",
       "101                NaN                NaN                NaN     NaN   \n",
       "97                 NaN                NaN                NaN     NaN   \n",
       "\n",
       "    CNG Vehicle Class LNG Vehicle Class EV On-Site Renewable Source  \\\n",
       "135               NaN               NaN                         NaN   \n",
       "123               NaN               NaN                         NaN   \n",
       "141               NaN               NaN                         NaN   \n",
       "50                NaN               NaN                         NaN   \n",
       "146               NaN               NaN                         NaN   \n",
       "62                NaN               NaN                         NaN   \n",
       "145               NaN               NaN                         NaN   \n",
       "133               NaN               NaN                         NaN   \n",
       "101               NaN               NaN                         NaN   \n",
       "97                NaN               NaN                         NaN   \n",
       "\n",
       "     Restricted Access                          geom_station  perc_sup  \n",
       "135                NaN          POINT (-73.934605 40.601595)  0.940000  \n",
       "123                NaN  POINT (-73.97752699999999 40.656459)  0.873333  \n",
       "141                NaN          POINT (-73.934605 40.601595)  0.693333  \n",
       "50                 NaN  POINT (-73.77710399999999 40.744854)  0.686667  \n",
       "146                NaN          POINT (-73.934605 40.601595)  0.666667  \n",
       "62                 NaN  POINT (-73.72999900000001 40.787424)  0.646667  \n",
       "145                NaN          POINT (-73.960707 40.589167)  0.633333  \n",
       "133                NaN          POINT (-73.960707 40.589167)  0.633333  \n",
       "101                NaN          POINT (-73.960707 40.589167)  0.626667  \n",
       "97                 NaN          POINT (-73.960707 40.589167)  0.626667  \n",
       "\n",
       "[10 rows x 77 columns]"
      ]
     },
     "execution_count": 26,
     "metadata": {},
     "output_type": "execute_result"
    }
   ],
   "source": [
    "top_loc"
   ]
  },
  {
   "cell_type": "markdown",
   "id": "d157ee57-9d97-48d3-88a2-45e6b9d8bd53",
   "metadata": {},
   "source": [
    "We reformed the dataframe into a GeoDataFrame and set the crs. We then rounded the distance and traffic down to the nearest integer to make tooltips in the Folium map have fewer significant digits. Finally we separated the top locations from the existing EV charging stations for plotting."
   ]
  },
  {
   "cell_type": "code",
   "execution_count": 27,
   "id": "2ac46575-ce08-4d65-a4b1-0ad620a71cf0",
   "metadata": {},
   "outputs": [],
   "source": [
    "top_loc =  gpd.GeoDataFrame(top_loc, geometry='geom_route')\n",
    "top_loc.crs = 'EPSG:4326'\n",
    "top_loc['distance'] = top_loc['distance'].astype(int)\n",
    "top_loc['traffic_adj'] = top_loc['traffic_adj'].astype(int)\n",
    "top_loc_poly = gpd.GeoDataFrame(top_loc, geometry='geom_poly')[['traffic_adj', 'distance', 'geom_poly']]\n",
    "top_loc_poly.crs = 'EPSG:4326'\n",
    "ev_chargers = gpd.GeoDataFrame(top_loc, geometry='geom_station')[['traffic_adj', 'distance', 'geom_station']]\n",
    "ev_chargers.crs = 'EPSG:4326'"
   ]
  },
  {
   "cell_type": "markdown",
   "id": "2a2a8d99-60bd-4a3c-9066-245d8f7a6791",
   "metadata": {},
   "source": [
    "The chart below shows the top 10 locations based on our analysis. While some of the locations are close together, this may be necessary as many businesses may not agree to installing chargers. The existing charging stations are shown with a half empty battery in red, and the chosen locations are in blue."
   ]
  },
  {
   "cell_type": "code",
   "execution_count": 28,
   "id": "233483f7-40b9-4242-8c7e-6d649353c28d",
   "metadata": {},
   "outputs": [
    {
     "data": {
      "text/html": [
       "<div style=\"width:100%;\"><div style=\"position:relative;width:100%;height:0;padding-bottom:60%;\"><span style=\"color:#565656\">Make this Notebook Trusted to load map: File -> Trust Notebook</span><iframe src=\"about:blank\" style=\"position:absolute;width:100%;height:100%;left:0;top:0;border:none !important;\" data-html=%3C%21DOCTYPE%20html%3E%0A%3Chead%3E%20%20%20%20%0A%20%20%20%20%3Cmeta%20http-equiv%3D%22content-type%22%20content%3D%22text/html%3B%20charset%3DUTF-8%22%20/%3E%0A%20%20%20%20%0A%20%20%20%20%20%20%20%20%3Cscript%3E%0A%20%20%20%20%20%20%20%20%20%20%20%20L_NO_TOUCH%20%3D%20false%3B%0A%20%20%20%20%20%20%20%20%20%20%20%20L_DISABLE_3D%20%3D%20false%3B%0A%20%20%20%20%20%20%20%20%3C/script%3E%0A%20%20%20%20%0A%20%20%20%20%3Cstyle%3Ehtml%2C%20body%20%7Bwidth%3A%20100%25%3Bheight%3A%20100%25%3Bmargin%3A%200%3Bpadding%3A%200%3B%7D%3C/style%3E%0A%20%20%20%20%3Cstyle%3E%23map%20%7Bposition%3Aabsolute%3Btop%3A0%3Bbottom%3A0%3Bright%3A0%3Bleft%3A0%3B%7D%3C/style%3E%0A%20%20%20%20%3Cscript%20src%3D%22https%3A//cdn.jsdelivr.net/npm/leaflet%401.6.0/dist/leaflet.js%22%3E%3C/script%3E%0A%20%20%20%20%3Cscript%20src%3D%22https%3A//code.jquery.com/jquery-1.12.4.min.js%22%3E%3C/script%3E%0A%20%20%20%20%3Cscript%20src%3D%22https%3A//maxcdn.bootstrapcdn.com/bootstrap/3.2.0/js/bootstrap.min.js%22%3E%3C/script%3E%0A%20%20%20%20%3Cscript%20src%3D%22https%3A//cdnjs.cloudflare.com/ajax/libs/Leaflet.awesome-markers/2.0.2/leaflet.awesome-markers.js%22%3E%3C/script%3E%0A%20%20%20%20%3Clink%20rel%3D%22stylesheet%22%20href%3D%22https%3A//cdn.jsdelivr.net/npm/leaflet%401.6.0/dist/leaflet.css%22/%3E%0A%20%20%20%20%3Clink%20rel%3D%22stylesheet%22%20href%3D%22https%3A//maxcdn.bootstrapcdn.com/bootstrap/3.2.0/css/bootstrap.min.css%22/%3E%0A%20%20%20%20%3Clink%20rel%3D%22stylesheet%22%20href%3D%22https%3A//maxcdn.bootstrapcdn.com/bootstrap/3.2.0/css/bootstrap-theme.min.css%22/%3E%0A%20%20%20%20%3Clink%20rel%3D%22stylesheet%22%20href%3D%22https%3A//maxcdn.bootstrapcdn.com/font-awesome/4.6.3/css/font-awesome.min.css%22/%3E%0A%20%20%20%20%3Clink%20rel%3D%22stylesheet%22%20href%3D%22https%3A//cdnjs.cloudflare.com/ajax/libs/Leaflet.awesome-markers/2.0.2/leaflet.awesome-markers.css%22/%3E%0A%20%20%20%20%3Clink%20rel%3D%22stylesheet%22%20href%3D%22https%3A//cdn.jsdelivr.net/gh/python-visualization/folium/folium/templates/leaflet.awesome.rotate.min.css%22/%3E%0A%20%20%20%20%0A%20%20%20%20%20%20%20%20%20%20%20%20%3Cmeta%20name%3D%22viewport%22%20content%3D%22width%3Ddevice-width%2C%0A%20%20%20%20%20%20%20%20%20%20%20%20%20%20%20%20initial-scale%3D1.0%2C%20maximum-scale%3D1.0%2C%20user-scalable%3Dno%22%20/%3E%0A%20%20%20%20%20%20%20%20%20%20%20%20%3Cstyle%3E%0A%20%20%20%20%20%20%20%20%20%20%20%20%20%20%20%20%23map_01c88306aa2949288dc6e36c68c9d83c%20%7B%0A%20%20%20%20%20%20%20%20%20%20%20%20%20%20%20%20%20%20%20%20position%3A%20relative%3B%0A%20%20%20%20%20%20%20%20%20%20%20%20%20%20%20%20%20%20%20%20width%3A%20100.0%25%3B%0A%20%20%20%20%20%20%20%20%20%20%20%20%20%20%20%20%20%20%20%20height%3A%20100.0%25%3B%0A%20%20%20%20%20%20%20%20%20%20%20%20%20%20%20%20%20%20%20%20left%3A%200.0%25%3B%0A%20%20%20%20%20%20%20%20%20%20%20%20%20%20%20%20%20%20%20%20top%3A%200.0%25%3B%0A%20%20%20%20%20%20%20%20%20%20%20%20%20%20%20%20%7D%0A%20%20%20%20%20%20%20%20%20%20%20%20%3C/style%3E%0A%20%20%20%20%20%20%20%20%0A%20%20%20%20%0A%20%20%20%20%20%20%20%20%20%20%20%20%20%20%20%20%20%20%20%20%3Cstyle%3E%0A%20%20%20%20%20%20%20%20%20%20%20%20%20%20%20%20%20%20%20%20%20%20%20%20.foliumtooltip%20%7B%0A%20%20%20%20%20%20%20%20%20%20%20%20%20%20%20%20%20%20%20%20%20%20%20%20%20%20%20%20%0A%20%20%20%20%20%20%20%20%20%20%20%20%20%20%20%20%20%20%20%20%20%20%20%20%7D%0A%20%20%20%20%20%20%20%20%20%20%20%20%20%20%20%20%20%20%20%20%20%20%20.foliumtooltip%20table%7B%0A%20%20%20%20%20%20%20%20%20%20%20%20%20%20%20%20%20%20%20%20%20%20%20%20%20%20%20%20margin%3A%20auto%3B%0A%20%20%20%20%20%20%20%20%20%20%20%20%20%20%20%20%20%20%20%20%20%20%20%20%7D%0A%20%20%20%20%20%20%20%20%20%20%20%20%20%20%20%20%20%20%20%20%20%20%20%20.foliumtooltip%20tr%7B%0A%20%20%20%20%20%20%20%20%20%20%20%20%20%20%20%20%20%20%20%20%20%20%20%20%20%20%20%20text-align%3A%20left%3B%0A%20%20%20%20%20%20%20%20%20%20%20%20%20%20%20%20%20%20%20%20%20%20%20%20%7D%0A%20%20%20%20%20%20%20%20%20%20%20%20%20%20%20%20%20%20%20%20%20%20%20%20.foliumtooltip%20th%7B%0A%20%20%20%20%20%20%20%20%20%20%20%20%20%20%20%20%20%20%20%20%20%20%20%20%20%20%20%20padding%3A%202px%3B%20padding-right%3A%208px%3B%0A%20%20%20%20%20%20%20%20%20%20%20%20%20%20%20%20%20%20%20%20%20%20%20%20%7D%0A%20%20%20%20%20%20%20%20%20%20%20%20%20%20%20%20%20%20%20%20%3C/style%3E%0A%20%20%20%20%20%20%20%20%20%20%20%20%0A%3C/head%3E%0A%3Cbody%3E%20%20%20%20%0A%20%20%20%20%0A%20%20%20%20%20%20%20%20%20%20%20%20%3Cdiv%20class%3D%22folium-map%22%20id%3D%22map_01c88306aa2949288dc6e36c68c9d83c%22%20%3E%3C/div%3E%0A%20%20%20%20%20%20%20%20%0A%3C/body%3E%0A%3Cscript%3E%20%20%20%20%0A%20%20%20%20%0A%20%20%20%20%20%20%20%20%20%20%20%20var%20map_01c88306aa2949288dc6e36c68c9d83c%20%3D%20L.map%28%0A%20%20%20%20%20%20%20%20%20%20%20%20%20%20%20%20%22map_01c88306aa2949288dc6e36c68c9d83c%22%2C%0A%20%20%20%20%20%20%20%20%20%20%20%20%20%20%20%20%7B%0A%20%20%20%20%20%20%20%20%20%20%20%20%20%20%20%20%20%20%20%20center%3A%20%5B40.7128%2C%20-74.0%5D%2C%0A%20%20%20%20%20%20%20%20%20%20%20%20%20%20%20%20%20%20%20%20crs%3A%20L.CRS.EPSG3857%2C%0A%20%20%20%20%20%20%20%20%20%20%20%20%20%20%20%20%20%20%20%20zoom%3A%2010%2C%0A%20%20%20%20%20%20%20%20%20%20%20%20%20%20%20%20%20%20%20%20zoomControl%3A%20true%2C%0A%20%20%20%20%20%20%20%20%20%20%20%20%20%20%20%20%20%20%20%20preferCanvas%3A%20false%2C%0A%20%20%20%20%20%20%20%20%20%20%20%20%20%20%20%20%7D%0A%20%20%20%20%20%20%20%20%20%20%20%20%29%3B%0A%0A%20%20%20%20%20%20%20%20%20%20%20%20%0A%0A%20%20%20%20%20%20%20%20%0A%20%20%20%20%0A%20%20%20%20%20%20%20%20%20%20%20%20var%20tile_layer_9b468eb3c3b44a3f9560e4ebe8eea179%20%3D%20L.tileLayer%28%0A%20%20%20%20%20%20%20%20%20%20%20%20%20%20%20%20%22https%3A//%7Bs%7D.tile.openstreetmap.org/%7Bz%7D/%7Bx%7D/%7By%7D.png%22%2C%0A%20%20%20%20%20%20%20%20%20%20%20%20%20%20%20%20%7B%22attribution%22%3A%20%22Data%20by%20%5Cu0026copy%3B%20%5Cu003ca%20href%3D%5C%22http%3A//openstreetmap.org%5C%22%5Cu003eOpenStreetMap%5Cu003c/a%5Cu003e%2C%20under%20%5Cu003ca%20href%3D%5C%22http%3A//www.openstreetmap.org/copyright%5C%22%5Cu003eODbL%5Cu003c/a%5Cu003e.%22%2C%20%22detectRetina%22%3A%20false%2C%20%22maxNativeZoom%22%3A%2018%2C%20%22maxZoom%22%3A%2018%2C%20%22minZoom%22%3A%200%2C%20%22noWrap%22%3A%20false%2C%20%22opacity%22%3A%201%2C%20%22subdomains%22%3A%20%22abc%22%2C%20%22tms%22%3A%20false%7D%0A%20%20%20%20%20%20%20%20%20%20%20%20%29.addTo%28map_01c88306aa2949288dc6e36c68c9d83c%29%3B%0A%20%20%20%20%20%20%20%20%0A%20%20%20%20%0A%20%20%20%20%20%20%20%20function%20geo_json_472e2d8e7da040c596da33d0875569ec_pointToLayer%28feature%2C%20latlng%29%20%7B%0A%20%20%20%20%20%20%20%20%20%20%20%20var%20opts%20%3D%20%7B%7D%3B%0A%20%20%20%20%20%20%20%20%20%20%20%20%0A%20%20%20%20%20%20%20%20%20%20%20%20return%20new%20L.Marker%28latlng%2C%20opts%29%0A%20%20%20%20%20%20%20%20%7D%0A%0A%20%20%20%20%20%20%20%20function%20geo_json_472e2d8e7da040c596da33d0875569ec_onEachFeature%28feature%2C%20layer%29%20%7B%0A%20%20%20%20%20%20%20%20%20%20%20%20layer.on%28%7B%0A%20%20%20%20%20%20%20%20%20%20%20%20%7D%29%3B%0A%20%20%20%20%20%20%20%20%7D%3B%0A%20%20%20%20%20%20%20%20var%20geo_json_472e2d8e7da040c596da33d0875569ec%20%3D%20L.geoJson%28null%2C%20%7B%0A%20%20%20%20%20%20%20%20%20%20%20%20%20%20%20%20onEachFeature%3A%20geo_json_472e2d8e7da040c596da33d0875569ec_onEachFeature%2C%0A%20%20%20%20%20%20%20%20%20%20%20%20%0A%20%20%20%20%20%20%20%20%20%20%20%20%20%20%20%20pointToLayer%3A%20geo_json_472e2d8e7da040c596da33d0875569ec_pointToLayer%0A%20%20%20%20%20%20%20%20%7D%29%3B%0A%0A%20%20%20%20%20%20%20%20function%20geo_json_472e2d8e7da040c596da33d0875569ec_add%20%28data%29%20%7B%0A%20%20%20%20%20%20%20%20%20%20%20%20geo_json_472e2d8e7da040c596da33d0875569ec%0A%20%20%20%20%20%20%20%20%20%20%20%20%20%20%20%20.addData%28data%29%0A%20%20%20%20%20%20%20%20%20%20%20%20%20%20%20%20.addTo%28map_01c88306aa2949288dc6e36c68c9d83c%29%3B%0A%20%20%20%20%20%20%20%20%7D%0A%20%20%20%20%20%20%20%20%20%20%20%20geo_json_472e2d8e7da040c596da33d0875569ec_add%28%7B%22features%22%3A%20%5B%7B%22geometry%22%3A%20%7B%22coordinates%22%3A%20%5B-73.96431242085852%2C%2040.62265713415227%5D%2C%20%22type%22%3A%20%22Point%22%7D%2C%20%22id%22%3A%20%22135%22%2C%20%22properties%22%3A%20%7B%22distance%22%3A%2011269%2C%20%22traffic_adj%22%3A%20100%7D%2C%20%22type%22%3A%20%22Feature%22%7D%2C%20%7B%22geometry%22%3A%20%7B%22coordinates%22%3A%20%5B-73.96596472051257%2C%2040.63151934762398%5D%2C%20%22type%22%3A%20%22Point%22%7D%2C%20%22id%22%3A%20%22123%22%2C%20%22properties%22%3A%20%7B%22distance%22%3A%209655%2C%20%22traffic_adj%22%3A%20100%7D%2C%20%22type%22%3A%20%22Feature%22%7D%2C%20%7B%22geometry%22%3A%20%7B%22coordinates%22%3A%20%5B-73.93040460032509%2C%2040.58610810464686%5D%2C%20%22type%22%3A%20%22Point%22%7D%2C%20%22id%22%3A%20%22141%22%2C%20%22properties%22%3A%20%7B%22distance%22%3A%205774%2C%20%22traffic_adj%22%3A%2095%7D%2C%20%22type%22%3A%20%22Feature%22%7D%2C%20%7B%22geometry%22%3A%20%7B%22coordinates%22%3A%20%5B-73.75835707402331%2C%2040.74830864519535%5D%2C%20%22type%22%3A%20%22Point%22%7D%2C%20%22id%22%3A%20%2250%22%2C%20%22properties%22%3A%20%7B%22distance%22%3A%205338%2C%20%22traffic_adj%22%3A%20159%7D%2C%20%22type%22%3A%20%22Feature%22%7D%2C%20%7B%22geometry%22%3A%20%7B%22coordinates%22%3A%20%5B-73.9653389015493%2C%2040.62402267344582%5D%2C%20%22type%22%3A%20%22Point%22%7D%2C%20%22id%22%3A%20%22146%22%2C%20%22properties%22%3A%20%7B%22distance%22%3A%2011819%2C%20%22traffic_adj%22%3A%2013%7D%2C%20%22type%22%3A%20%22Feature%22%7D%2C%20%7B%22geometry%22%3A%20%7B%22coordinates%22%3A%20%5B-73.73210251794858%2C%2040.759642309027%5D%2C%20%22type%22%3A%20%22Point%22%7D%2C%20%22id%22%3A%20%2262%22%2C%20%22properties%22%3A%20%7B%22distance%22%3A%2010163%2C%20%22traffic_adj%22%3A%2014%7D%2C%20%22type%22%3A%20%22Feature%22%7D%2C%20%7B%22geometry%22%3A%20%7B%22coordinates%22%3A%20%5B-73.96841443228283%2C%2040.60893076855984%5D%2C%20%22type%22%3A%20%22Point%22%7D%2C%20%22id%22%3A%20%22145%22%2C%20%22properties%22%3A%20%7B%22distance%22%3A%207527%2C%20%22traffic_adj%22%3A%2025%7D%2C%20%22type%22%3A%20%22Feature%22%7D%2C%20%7B%22geometry%22%3A%20%7B%22coordinates%22%3A%20%5B-73.97241273826529%2C%2040.60912343177151%5D%2C%20%22type%22%3A%20%22Point%22%7D%2C%20%22id%22%3A%20%22133%22%2C%20%22properties%22%3A%20%7B%22distance%22%3A%207978%2C%20%22traffic_adj%22%3A%2024%7D%2C%20%22type%22%3A%20%22Feature%22%7D%2C%20%7B%22geometry%22%3A%20%7B%22coordinates%22%3A%20%5B-73.96856324942762%2C%2040.60957389407129%5D%2C%20%22type%22%3A%20%22Point%22%7D%2C%20%22id%22%3A%20%22101%22%2C%20%22properties%22%3A%20%7B%22distance%22%3A%207764%2C%20%22traffic_adj%22%3A%2024%7D%2C%20%22type%22%3A%20%22Feature%22%7D%2C%20%7B%22geometry%22%3A%20%7B%22coordinates%22%3A%20%5B-73.9618212112516%2C%2040.60928072351123%5D%2C%20%22type%22%3A%20%22Point%22%7D%2C%20%22id%22%3A%20%2297%22%2C%20%22properties%22%3A%20%7B%22distance%22%3A%207352%2C%20%22traffic_adj%22%3A%2025%7D%2C%20%22type%22%3A%20%22Feature%22%7D%5D%2C%20%22type%22%3A%20%22FeatureCollection%22%7D%29%3B%0A%0A%20%20%20%20%20%20%20%20%0A%20%20%20%20%0A%20%20%20%20geo_json_472e2d8e7da040c596da33d0875569ec.bindTooltip%28%0A%20%20%20%20function%28layer%29%7B%0A%20%20%20%20let%20div%20%3D%20L.DomUtil.create%28%27div%27%29%3B%0A%20%20%20%20%0A%20%20%20%20let%20handleObject%20%3D%20feature%3D%3Etypeof%28feature%29%3D%3D%27object%27%20%3F%20JSON.stringify%28feature%29%20%3A%20feature%3B%0A%20%20%20%20let%20fields%20%3D%20%5B%22distance%22%2C%20%22traffic_adj%22%5D%3B%0A%20%20%20%20let%20aliases%20%3D%20%5B%22Distance%20to%20Charger%20%28feet%29%22%2C%20%22Calculated%20EV%20Traffic%22%5D%3B%0A%20%20%20%20let%20table%20%3D%20%27%3Ctable%3E%27%20%2B%0A%20%20%20%20%20%20%20%20String%28%0A%20%20%20%20%20%20%20%20fields.map%28%0A%20%20%20%20%20%20%20%20%28v%2Ci%29%3D%3E%0A%20%20%20%20%20%20%20%20%60%3Ctr%3E%0A%20%20%20%20%20%20%20%20%20%20%20%20%3Cth%3E%24%7Baliases%5Bi%5D%7D%3C/th%3E%0A%20%20%20%20%20%20%20%20%20%20%20%20%0A%20%20%20%20%20%20%20%20%20%20%20%20%3Ctd%3E%24%7BhandleObject%28layer.feature.properties%5Bv%5D%29%7D%3C/td%3E%0A%20%20%20%20%20%20%20%20%3C/tr%3E%60%29.join%28%27%27%29%29%0A%20%20%20%20%2B%27%3C/table%3E%27%3B%0A%20%20%20%20div.innerHTML%3Dtable%3B%0A%20%20%20%20%0A%20%20%20%20return%20div%0A%20%20%20%20%7D%0A%20%20%20%20%2C%7B%22className%22%3A%20%22foliumtooltip%22%2C%20%22sticky%22%3A%20true%7D%29%3B%0A%20%20%20%20%20%20%20%20%20%20%20%20%20%20%20%20%20%20%20%20%20%0A%20%20%20%20%0A%20%20%20%20%20%20%20%20function%20geo_json_abfdeecd851147fa9c54aa6ec2ef6400_pointToLayer%28feature%2C%20latlng%29%20%7B%0A%20%20%20%20%20%20%20%20%20%20%20%20var%20opts%20%3D%20%7B%7D%3B%0A%20%20%20%20%20%20%20%20%20%20%20%20%0A%20%20%20%20%20%20%20%20%20%20%20%20const%20iconOptions%20%3D%20%7B%22extraClasses%22%3A%20%22fa-rotate-0%22%2C%20%22icon%22%3A%20%22battery-half%22%2C%20%22iconColor%22%3A%20%22white%22%2C%20%22markerColor%22%3A%20%22red%22%2C%20%22prefix%22%3A%20%22fa%22%7D%0A%20%20%20%20%20%20%20%20%20%20%20%20const%20iconRootAlias%20%3D%20L.AwesomeMarkers%0A%20%20%20%20%20%20%20%20%20%20%20%20opts.icon%20%3D%20new%20iconRootAlias.Icon%28iconOptions%29%0A%20%20%20%20%20%20%20%20%20%20%20%20%0A%20%20%20%20%20%20%20%20%20%20%20%20return%20new%20L.Marker%28latlng%2C%20opts%29%0A%20%20%20%20%20%20%20%20%7D%0A%0A%20%20%20%20%20%20%20%20function%20geo_json_abfdeecd851147fa9c54aa6ec2ef6400_onEachFeature%28feature%2C%20layer%29%20%7B%0A%20%20%20%20%20%20%20%20%20%20%20%20layer.on%28%7B%0A%20%20%20%20%20%20%20%20%20%20%20%20%7D%29%3B%0A%20%20%20%20%20%20%20%20%7D%3B%0A%20%20%20%20%20%20%20%20var%20geo_json_abfdeecd851147fa9c54aa6ec2ef6400%20%3D%20L.geoJson%28null%2C%20%7B%0A%20%20%20%20%20%20%20%20%20%20%20%20%20%20%20%20onEachFeature%3A%20geo_json_abfdeecd851147fa9c54aa6ec2ef6400_onEachFeature%2C%0A%20%20%20%20%20%20%20%20%20%20%20%20%0A%20%20%20%20%20%20%20%20%20%20%20%20%20%20%20%20pointToLayer%3A%20geo_json_abfdeecd851147fa9c54aa6ec2ef6400_pointToLayer%0A%20%20%20%20%20%20%20%20%7D%29%3B%0A%0A%20%20%20%20%20%20%20%20function%20geo_json_abfdeecd851147fa9c54aa6ec2ef6400_add%20%28data%29%20%7B%0A%20%20%20%20%20%20%20%20%20%20%20%20geo_json_abfdeecd851147fa9c54aa6ec2ef6400%0A%20%20%20%20%20%20%20%20%20%20%20%20%20%20%20%20.addData%28data%29%0A%20%20%20%20%20%20%20%20%20%20%20%20%20%20%20%20.addTo%28map_01c88306aa2949288dc6e36c68c9d83c%29%3B%0A%20%20%20%20%20%20%20%20%7D%0A%20%20%20%20%20%20%20%20%20%20%20%20geo_json_abfdeecd851147fa9c54aa6ec2ef6400_add%28%7B%22features%22%3A%20%5B%7B%22geometry%22%3A%20%7B%22coordinates%22%3A%20%5B-73.934605%2C%2040.601595%5D%2C%20%22type%22%3A%20%22Point%22%7D%2C%20%22id%22%3A%20%22135%22%2C%20%22properties%22%3A%20%7B%22distance%22%3A%2011269%2C%20%22traffic_adj%22%3A%20100%7D%2C%20%22type%22%3A%20%22Feature%22%7D%2C%20%7B%22geometry%22%3A%20%7B%22coordinates%22%3A%20%5B-73.977527%2C%2040.656459%5D%2C%20%22type%22%3A%20%22Point%22%7D%2C%20%22id%22%3A%20%22123%22%2C%20%22properties%22%3A%20%7B%22distance%22%3A%209655%2C%20%22traffic_adj%22%3A%20100%7D%2C%20%22type%22%3A%20%22Feature%22%7D%2C%20%7B%22geometry%22%3A%20%7B%22coordinates%22%3A%20%5B-73.934605%2C%2040.601595%5D%2C%20%22type%22%3A%20%22Point%22%7D%2C%20%22id%22%3A%20%22141%22%2C%20%22properties%22%3A%20%7B%22distance%22%3A%205774%2C%20%22traffic_adj%22%3A%2095%7D%2C%20%22type%22%3A%20%22Feature%22%7D%2C%20%7B%22geometry%22%3A%20%7B%22coordinates%22%3A%20%5B-73.777104%2C%2040.744854%5D%2C%20%22type%22%3A%20%22Point%22%7D%2C%20%22id%22%3A%20%2250%22%2C%20%22properties%22%3A%20%7B%22distance%22%3A%205338%2C%20%22traffic_adj%22%3A%20159%7D%2C%20%22type%22%3A%20%22Feature%22%7D%2C%20%7B%22geometry%22%3A%20%7B%22coordinates%22%3A%20%5B-73.934605%2C%2040.601595%5D%2C%20%22type%22%3A%20%22Point%22%7D%2C%20%22id%22%3A%20%22146%22%2C%20%22properties%22%3A%20%7B%22distance%22%3A%2011819%2C%20%22traffic_adj%22%3A%2013%7D%2C%20%22type%22%3A%20%22Feature%22%7D%2C%20%7B%22geometry%22%3A%20%7B%22coordinates%22%3A%20%5B-73.729999%2C%2040.787424%5D%2C%20%22type%22%3A%20%22Point%22%7D%2C%20%22id%22%3A%20%2262%22%2C%20%22properties%22%3A%20%7B%22distance%22%3A%2010163%2C%20%22traffic_adj%22%3A%2014%7D%2C%20%22type%22%3A%20%22Feature%22%7D%2C%20%7B%22geometry%22%3A%20%7B%22coordinates%22%3A%20%5B-73.960707%2C%2040.589167%5D%2C%20%22type%22%3A%20%22Point%22%7D%2C%20%22id%22%3A%20%22145%22%2C%20%22properties%22%3A%20%7B%22distance%22%3A%207527%2C%20%22traffic_adj%22%3A%2025%7D%2C%20%22type%22%3A%20%22Feature%22%7D%2C%20%7B%22geometry%22%3A%20%7B%22coordinates%22%3A%20%5B-73.960707%2C%2040.589167%5D%2C%20%22type%22%3A%20%22Point%22%7D%2C%20%22id%22%3A%20%22133%22%2C%20%22properties%22%3A%20%7B%22distance%22%3A%207978%2C%20%22traffic_adj%22%3A%2024%7D%2C%20%22type%22%3A%20%22Feature%22%7D%2C%20%7B%22geometry%22%3A%20%7B%22coordinates%22%3A%20%5B-73.960707%2C%2040.589167%5D%2C%20%22type%22%3A%20%22Point%22%7D%2C%20%22id%22%3A%20%22101%22%2C%20%22properties%22%3A%20%7B%22distance%22%3A%207764%2C%20%22traffic_adj%22%3A%2024%7D%2C%20%22type%22%3A%20%22Feature%22%7D%2C%20%7B%22geometry%22%3A%20%7B%22coordinates%22%3A%20%5B-73.960707%2C%2040.589167%5D%2C%20%22type%22%3A%20%22Point%22%7D%2C%20%22id%22%3A%20%2297%22%2C%20%22properties%22%3A%20%7B%22distance%22%3A%207352%2C%20%22traffic_adj%22%3A%2025%7D%2C%20%22type%22%3A%20%22Feature%22%7D%5D%2C%20%22type%22%3A%20%22FeatureCollection%22%7D%29%3B%0A%0A%20%20%20%20%20%20%20%20%0A%3C/script%3E onload=\"this.contentDocument.open();this.contentDocument.write(    decodeURIComponent(this.getAttribute('data-html')));this.contentDocument.close();\" allowfullscreen webkitallowfullscreen mozallowfullscreen></iframe></div></div>"
      ],
      "text/plain": [
       "<folium.folium.Map at 0x7fea33529250>"
      ]
     },
     "execution_count": 28,
     "metadata": {},
     "output_type": "execute_result"
    }
   ],
   "source": [
    "m = folium.Map(location=(40.7128, -74), zoom_start=10)\n",
    "points = folium.features.GeoJson(top_loc[['distance', 'traffic_adj', 'geom_route']].to_json(), \n",
    "                                 tooltip=folium.features.GeoJsonTooltip(fields=['distance', 'traffic_adj'],\n",
    "                                                                       aliases=['Distance to Charger (feet)',\n",
    "                                                                                'Calculated EV Traffic']),\n",
    "                                marker=folium.Marker())\n",
    "points.add_to(m)\n",
    "\n",
    "points_ev = folium.features.GeoJson(ev_chargers.to_json(), marker=folium.Marker(icon=folium.Icon(icon='battery-half', prefix='fa', color='red'), tooltip='Charging Station'),\n",
    "                                   )\n",
    "points_ev.add_to(m)\n",
    "m"
   ]
  },
  {
   "cell_type": "markdown",
   "id": "58fe7391-3161-4941-8b41-3c4962a41fe3",
   "metadata": {},
   "source": [
    "Finally, we wanted to find the exact location of each point using the Mapbox reverse geocoding api. Below is a function used for this purpose."
   ]
  },
  {
   "cell_type": "code",
   "execution_count": 29,
   "id": "99236798-b5b3-40ce-be76-ecfdecead1e8",
   "metadata": {},
   "outputs": [],
   "source": [
    "from config import api_token\n",
    "\n",
    "longitude = top_loc['geom_route'].iloc[0].x\n",
    "latitude = top_loc['geom_route'].iloc[0].y\n",
    "\n",
    "def find_address(point):\n",
    "    \"\"\"\n",
    "    Uses Mapbox reverse geocoding API to find address of specific location\n",
    "    \n",
    "    Parameters\n",
    "    ----------\n",
    "    point - Shapely Point\n",
    "        point containing latlong coords of address\n",
    "        \n",
    "    Returns\n",
    "    -------\n",
    "    Address of location\n",
    "    \n",
    "    \"\"\"\n",
    "    longitude = point.x\n",
    "    latitude = point.y\n",
    "    TOKEN = api_token\n",
    "    URL = f'https://api.mapbox.com/geocoding/v5/mapbox.places/{longitude},{latitude}.json?access_token={TOKEN}'\n",
    "    address = requests.get(URL).json()['features'][0]['place_name']\n",
    "    return address"
   ]
  },
  {
   "cell_type": "markdown",
   "id": "1f284c4c-a313-4481-b7bd-cdfe6e893544",
   "metadata": {},
   "source": [
    "The addresses of the chosen locations are found using the above function."
   ]
  },
  {
   "cell_type": "code",
   "execution_count": 30,
   "id": "15047e2a-8cff-44b2-8251-57e356d7d0af",
   "metadata": {},
   "outputs": [],
   "source": [
    "top_loc['address'] = top_loc['geom_route'].map(find_address)"
   ]
  },
  {
   "cell_type": "markdown",
   "id": "704c0c1c-f5bc-48d8-8a09-20c599afdf24",
   "metadata": {},
   "source": [
    "These are the final chosen locations with traffic, distance to a charging station, and address."
   ]
  },
  {
   "cell_type": "code",
   "execution_count": 31,
   "id": "c6db9aa2-bc62-454f-abdf-9d384ac2d7e2",
   "metadata": {},
   "outputs": [
    {
     "data": {
      "text/html": [
       "<div>\n",
       "<style scoped>\n",
       "    .dataframe tbody tr th:only-of-type {\n",
       "        vertical-align: middle;\n",
       "    }\n",
       "\n",
       "    .dataframe tbody tr th {\n",
       "        vertical-align: top;\n",
       "    }\n",
       "\n",
       "    .dataframe thead th {\n",
       "        text-align: right;\n",
       "    }\n",
       "</style>\n",
       "<table border=\"1\" class=\"dataframe\">\n",
       "  <thead>\n",
       "    <tr style=\"text-align: right;\">\n",
       "      <th></th>\n",
       "      <th>traffic_adj</th>\n",
       "      <th>distance</th>\n",
       "      <th>address</th>\n",
       "    </tr>\n",
       "  </thead>\n",
       "  <tbody>\n",
       "    <tr>\n",
       "      <th>135</th>\n",
       "      <td>100</td>\n",
       "      <td>11269</td>\n",
       "      <td>Mark Halberstam, 1435 Coney Island Ave, New Yo...</td>\n",
       "    </tr>\n",
       "    <tr>\n",
       "      <th>123</th>\n",
       "      <td>100</td>\n",
       "      <td>9655</td>\n",
       "      <td>1071 Coney Island Avenue, Brooklyn, New York 1...</td>\n",
       "    </tr>\n",
       "    <tr>\n",
       "      <th>141</th>\n",
       "      <td>95</td>\n",
       "      <td>5774</td>\n",
       "      <td>3939 Shore Parkway, Brooklyn, New York 11235, ...</td>\n",
       "    </tr>\n",
       "    <tr>\n",
       "      <th>50</th>\n",
       "      <td>159</td>\n",
       "      <td>5338</td>\n",
       "      <td>BP, 21902 Horace Harding Expy, New York, New Y...</td>\n",
       "    </tr>\n",
       "    <tr>\n",
       "      <th>146</th>\n",
       "      <td>13</td>\n",
       "      <td>11819</td>\n",
       "      <td>1372 Coney Island Avenue, Brooklyn, New York 1...</td>\n",
       "    </tr>\n",
       "    <tr>\n",
       "      <th>62</th>\n",
       "      <td>14</td>\n",
       "      <td>10163</td>\n",
       "      <td>56-20 Marathon Parkway, Queens, New York 11362...</td>\n",
       "    </tr>\n",
       "    <tr>\n",
       "      <th>145</th>\n",
       "      <td>25</td>\n",
       "      <td>7527</td>\n",
       "      <td>1622 Ocean Parkway, Brooklyn, New York 11223, ...</td>\n",
       "    </tr>\n",
       "    <tr>\n",
       "      <th>133</th>\n",
       "      <td>24</td>\n",
       "      <td>7978</td>\n",
       "      <td>Dunkin', 407 Avenue P, New York, New York 1123...</td>\n",
       "    </tr>\n",
       "    <tr>\n",
       "      <th>101</th>\n",
       "      <td>24</td>\n",
       "      <td>7764</td>\n",
       "      <td>511 Avenue P, Brooklyn, New York 11230, United...</td>\n",
       "    </tr>\n",
       "    <tr>\n",
       "      <th>97</th>\n",
       "      <td>25</td>\n",
       "      <td>7352</td>\n",
       "      <td>1963 Coney Island Avenue, Brooklyn, New York 1...</td>\n",
       "    </tr>\n",
       "  </tbody>\n",
       "</table>\n",
       "</div>"
      ],
      "text/plain": [
       "     traffic_adj  distance                                            address\n",
       "135          100     11269  Mark Halberstam, 1435 Coney Island Ave, New Yo...\n",
       "123          100      9655  1071 Coney Island Avenue, Brooklyn, New York 1...\n",
       "141           95      5774  3939 Shore Parkway, Brooklyn, New York 11235, ...\n",
       "50           159      5338  BP, 21902 Horace Harding Expy, New York, New Y...\n",
       "146           13     11819  1372 Coney Island Avenue, Brooklyn, New York 1...\n",
       "62            14     10163  56-20 Marathon Parkway, Queens, New York 11362...\n",
       "145           25      7527  1622 Ocean Parkway, Brooklyn, New York 11223, ...\n",
       "133           24      7978  Dunkin', 407 Avenue P, New York, New York 1123...\n",
       "101           24      7764  511 Avenue P, Brooklyn, New York 11230, United...\n",
       "97            25      7352  1963 Coney Island Avenue, Brooklyn, New York 1..."
      ]
     },
     "execution_count": 31,
     "metadata": {},
     "output_type": "execute_result"
    }
   ],
   "source": [
    "final_loc = top_loc[['traffic_adj', 'distance', 'address']]\n",
    "final_loc.to_csv('assets/top_loc.csv')\n",
    "final_loc"
   ]
  }
 ],
 "metadata": {
  "kernelspec": {
   "display_name": "Python 3",
   "language": "python",
   "name": "python3"
  },
  "language_info": {
   "codemirror_mode": {
    "name": "ipython",
    "version": 3
   },
   "file_extension": ".py",
   "mimetype": "text/x-python",
   "name": "python",
   "nbconvert_exporter": "python",
   "pygments_lexer": "ipython3",
   "version": "3.8.8"
  }
 },
 "nbformat": 4,
 "nbformat_minor": 5
}
